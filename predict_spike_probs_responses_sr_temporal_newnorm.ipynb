{
 "cells": [
  {
   "cell_type": "markdown",
   "metadata": {},
   "source": [
    "### Imports and directories"
   ]
  },
  {
   "cell_type": "code",
   "execution_count": 1,
   "metadata": {},
   "outputs": [],
   "source": [
    "import numpy as np\n",
    "import os\n",
    "from oe_acute import trial_utils as tu\n",
    "import matplotlib.pyplot as plt\n",
    "import matplotlib.cm as cm\n",
    "import pickle\n",
    "import tqdm\n",
    "import glob\n",
    "from scipy.ndimage import gaussian_filter1d\n",
    "from scipy.stats.stats import pearsonr \n",
    "\n",
    "import sys"
   ]
  },
  {
   "cell_type": "code",
   "execution_count": 2,
   "metadata": {},
   "outputs": [],
   "source": [
    "#exp_path = '/mnt/cube/btheilma/experiments/B1240/block3/'\n",
    "sort_path =  '/mnt/cube/btheilma/sorting/B1240/block3/'\n",
    "\n",
    "stim_path = '/mnt/cube/srrudrar/experiments/MET_prediction_expt/'\n",
    "\n",
    "exp_path1 = '/mnt/cube/srrudrar/experiments/B1240/block3/'\n",
    "exp_path2 = '/mnt/cube/srrudrar/temporal_model/'"
   ]
  },
  {
   "cell_type": "code",
   "execution_count": 3,
   "metadata": {},
   "outputs": [],
   "source": [
    "#exp_path = '/mnt/cube/srrudrar/temporal_model/stim_resp_64/'\n",
    "#MNE_test_dset_pred = '/mnt/cube/srrudrar/temporal_model/stim_resp_64/MNE_test_dset/'  \n",
    "MNE_test_dset_sig = '/mnt/cube/srrudrar/avgn_model/B1240/block3/MNE_test_dset/signal/'"
   ]
  },
  {
   "cell_type": "code",
   "execution_count": 4,
   "metadata": {},
   "outputs": [],
   "source": [
    "#units_to_process = [2, 5, 7, 16, 17, 21]   # good clusters\n",
    "#units_to_process = [0, 1, 3, 4, 6, 8, 9, 10, 11, 12, 13, 14, 15, 18, 19, 20, 22, 23]   # mua clusters\n",
    "ratings = [1,2,3]\n",
    "clusters = []\n",
    "for rating in ratings:\n",
    "    x = tu.get_clusters_by_rating(sort_path, rating)\n",
    "    clusters.extend(x)"
   ]
  },
  {
   "cell_type": "markdown",
   "metadata": {},
   "source": [
    "### Functions"
   ]
  },
  {
   "cell_type": "code",
   "execution_count": 5,
   "metadata": {},
   "outputs": [],
   "source": [
    "def predict_spiking_response(pfinal, stim_segs, sdim, n_trials=20):\n",
    "\n",
    "    '''\n",
    "    Given a pfinal parameter vector and stimulus segments, predict n_trials spike trains\n",
    "    stim_segs is an array nsegs x ndim\n",
    "    spikes is a binary array n_trials x nsegs\n",
    "    TODO: Specify first order or second order model\n",
    "    '''\n",
    "\n",
    "    a = pfinal[0]\n",
    "    h = pfinal[1:sdim+1]\n",
    "    J = np.reshape(pfinal[-1*sdim**2:], (sdim, sdim))\n",
    "\n",
    "    x = a + np.dot(stim_segs, h) + np.sum(stim_segs * (stim_segs.dot(J)), 1)\n",
    "    probs = 1.0 / (1.0 + np.exp(x))\n",
    "    spikes = np.less(np.random.rand(n_trials, len(probs)), probs).astype(int)\n",
    "    return spikes"
   ]
  },
  {
   "cell_type": "code",
   "execution_count": 6,
   "metadata": {},
   "outputs": [],
   "source": [
    "def predict_spiking_probability(pfinal, stim_segs, sdim, **kwargs):\n",
    "\n",
    "    '''\n",
    "    Given a pfinal parameter vector and stimulus segments, predict spiking probabilities\n",
    "    stim_segs is an array nsegs x ndim\n",
    "    spikes is a binary array n_trials x nsegs\n",
    "    '''\n",
    "\n",
    "    a = pfinal[0]\n",
    "    h = pfinal[1:sdim+1]\n",
    "    J = np.reshape(pfinal[-1*sdim**2:], (sdim, sdim))\n",
    "    x = a + np.dot(stim_segs, h) + np.sum(stim_segs * (stim_segs.dot(J)), 1)\n",
    "    probs = 1.0 / (1.0 + np.exp(x))\n",
    "    return probs\n",
    "\n",
    "def predict_spiking_prob_lin(pfinal, stim_segs, sdim, **kwargs):\n",
    "\n",
    "    '''\n",
    "    Given a pfinal parameter vector and stimulus segments, predict spiking probabilities\n",
    "    stim_segs is an array nsegs x ndim\n",
    "    spikes is a binary array n_trials x nsegs\n",
    "    '''\n",
    "\n",
    "    a = pfinal[0]\n",
    "    h = pfinal[1:sdim+1]\n",
    "    x = a + np.dot(stim_segs, h)\n",
    "    probs = 1.0 / (1.0 + np.exp(x))\n",
    "    return probs"
   ]
  },
  {
   "cell_type": "code",
   "execution_count": 7,
   "metadata": {},
   "outputs": [],
   "source": [
    "def evaluate_prediction(pfinal, stims_test, resps_test, sdim, **kwargs):\n",
    "    '''\n",
    "    Given a vector of MNE parameters pfinal, predict spiking probabilities using stims_test and the \n",
    "    MNE model, and compare these to the given 'resps_test' using pearson correlation\n",
    "    '''\n",
    "    \n",
    "    probs = predict_spiking_probability(pfinal, stims_test, sdim, **kwargs)\n",
    "    corr = pearsonr(probs, resps_test.flatten())\n",
    "    return probs, corr\n",
    "\n",
    "def evaluate_pred_lin(pfinal, stims_test, resps_test, sdim, **kwargs):\n",
    "    '''\n",
    "    Given a vector of MNE parameters pfinal, predict spiking probabilities using stims_test and the \n",
    "    MNE model, and compare these to the given 'resps_test' using pearson correlation\n",
    "    '''\n",
    "    \n",
    "    probs = predict_spiking_prob_lin(pfinal, stims_test, sdim, **kwargs)\n",
    "    corr = pearsonr(probs, resps_test.flatten())\n",
    "    return probs, corr"
   ]
  },
  {
   "cell_type": "code",
   "execution_count": 8,
   "metadata": {},
   "outputs": [],
   "source": [
    "def correlate_gaussian_spiketrains(sp1, sp2, tau):\n",
    "    '''\n",
    "    Compute the correlation of two gaussian smoothed spike trains\n",
    "    sp1, sp2 are lists of spike times, tau is the gaussian standard deviation\n",
    "    '''\n",
    "    diffmtx = sp2[:, np.newaxis] - sp1[np.newaxis, :]\n",
    "    n1 = len(sp1)\n",
    "    n2 = len(sp2)\n",
    "\n",
    "    corr = np.sum(np.exp(-0.5*(diffmtx**2 / (2*tau**2)))*(tau*np.sqrt(np.pi)))\n",
    "    return corr"
   ]
  },
  {
   "cell_type": "markdown",
   "metadata": {},
   "source": [
    "### Test with one unit"
   ]
  },
  {
   "cell_type": "code",
   "execution_count": 9,
   "metadata": {},
   "outputs": [],
   "source": [
    "resp_test = []\n",
    "probs = []\n",
    "units = []\n",
    "for unit in clusters:   \n",
    "    # sig corr\n",
    "    with open(os.path.join(MNE_test_dset_sig, '_unit-{}_MNE.pkl'.format(unit)), 'rb') as f:\n",
    "        test_dict_sig = pickle.load(f)\n",
    "    stims_test_sig = test_dict_sig['stims_test']\n",
    "    resps_test_sig = test_dict_sig['resps_test']\n",
    "    \n",
    "    with open(os.path.join(exp_path1, 'all_1_2_3_MNEs_random_test.pkl'), 'rb') as f:                          \n",
    "        pfinals_sig = pickle.load(f)\n",
    "    pfinal_sig = pfinals_sig[unit]\n",
    "    \n",
    "    probs_sig, corr_sig = evaluate_prediction(pfinal_sig, stims_test_sig, resps_test_sig, sdim=320)\n",
    "    probs_lin_sig, corr_lin_sig = evaluate_pred_lin(pfinal_sig, stims_test_sig, resps_test_sig, sdim=320)\n",
    "    \n",
    "    # form lists of correlations\n",
    "    resp_test.append(resps_test_sig)\n",
    "    probs.append(probs_sig)\n",
    "    units.append(unit)"
   ]
  },
  {
   "cell_type": "code",
   "execution_count": 10,
   "metadata": {},
   "outputs": [
    {
     "data": {
      "text/plain": [
       "((6881,), (6881,))"
      ]
     },
     "execution_count": 10,
     "metadata": {},
     "output_type": "execute_result"
    }
   ],
   "source": [
    "np.shape(resp_test[0].flatten()), np.shape(probs[0])"
   ]
  },
  {
   "cell_type": "code",
   "execution_count": 26,
   "metadata": {},
   "outputs": [
    {
     "data": {
      "text/plain": [
       "(0.9997394618588533, 2.0152434191885564e-14)"
      ]
     },
     "execution_count": 26,
     "metadata": {},
     "output_type": "execute_result"
    }
   ],
   "source": [
    "corr = pearsonr(probs[0][2860:2870], resp_test[0].flatten()[2860:2870])\n",
    "corr"
   ]
  },
  {
   "cell_type": "code",
   "execution_count": 27,
   "metadata": {},
   "outputs": [
    {
     "data": {
      "text/plain": [
       "(0.44833265441162323, 0.19376453429396787)"
      ]
     },
     "execution_count": 27,
     "metadata": {},
     "output_type": "execute_result"
    }
   ],
   "source": [
    "corr = pearsonr(probs[1][2860:2870], resp_test[1].flatten()[2860:2870])\n",
    "corr"
   ]
  },
  {
   "cell_type": "code",
   "execution_count": 30,
   "metadata": {},
   "outputs": [],
   "source": [
    "x = np.asarray([0, 0.55, 1.1, 1.65, 2.2, 2.75, 3.3, 3.85, 4.4, 4.95])\n",
    "y0 = resp_test[0].flatten()[2860:2870]\n",
    "z0 = probs[0][2860:2870]"
   ]
  },
  {
   "cell_type": "code",
   "execution_count": 38,
   "metadata": {},
   "outputs": [],
   "source": [
    "from scipy import interpolate\n",
    "x_new = np.linspace(0, 4.95, 300)\n",
    "a_BSpline_y0 = interpolate.make_interp_spline(x, y0)\n",
    "a_BSpline_z0 = interpolate.make_interp_spline(x, z0)\n",
    "y0_new = a_BSpline_y0(x_new)\n",
    "z0_new = a_BSpline_z0(x_new)"
   ]
  },
  {
   "cell_type": "code",
   "execution_count": 43,
   "metadata": {},
   "outputs": [
    {
     "data": {
      "image/png": "[encoded data removed]",
      "text/plain": [
       "<Figure size 432x288 with 1 Axes>"
      ]
     },
     "metadata": {
      "needs_background": "light"
     },
     "output_type": "display_data"
    }
   ],
   "source": [
    "plt.plot(x_new, y0_new, 'k', label='empirical response')\n",
    "plt.plot(x_new, z0_new, 'b', label='modeled response')\n",
    "plt.legend()\n",
    "plt.xlabel('time (ms)')\n",
    "plt.ylabel('spiking probability')\n",
    "locs, labels = plt.xticks()  # Get the current locations and labels.\n",
    "plt.xticks(np.arange(0, 5.5, step=1.1))  # Set label locations.\n",
    "#plt.grid()\n",
    "plt.show()"
   ]
  },
  {
   "cell_type": "code",
   "execution_count": 68,
   "metadata": {},
   "outputs": [],
   "source": [
    "y1 = resp_test[30].flatten()[2860:2870]\n",
    "z1 = probs[30][2860:2870]"
   ]
  },
  {
   "cell_type": "code",
   "execution_count": 69,
   "metadata": {},
   "outputs": [
    {
     "name": "stdout",
     "output_type": "stream",
     "text": [
      "(0.7148291295936178, 0.020160748261438308)\n"
     ]
    }
   ],
   "source": [
    "print(pearsonr(y1,z1))"
   ]
  },
  {
   "cell_type": "code",
   "execution_count": 70,
   "metadata": {},
   "outputs": [],
   "source": [
    "a_BSpline_y1 = interpolate.make_interp_spline(x, y1)\n",
    "a_BSpline_z1 = interpolate.make_interp_spline(x, z1)\n",
    "y1_new = a_BSpline_y1(x_new)\n",
    "z1_new = a_BSpline_z1(x_new)"
   ]
  },
  {
   "cell_type": "code",
   "execution_count": 71,
   "metadata": {},
   "outputs": [
    {
     "data": {
      "image/png": "[encoded data removed]",
      "text/plain": [
       "<Figure size 432x288 with 1 Axes>"
      ]
     },
     "metadata": {
      "needs_background": "light"
     },
     "output_type": "display_data"
    }
   ],
   "source": [
    "plt.plot(x_new, y1_new, 'k', label='empirical response')\n",
    "plt.plot(x_new, z1_new, 'b', label='modeled response')\n",
    "plt.legend()\n",
    "plt.xlabel('time (ms)')\n",
    "plt.ylabel('spiking probability')\n",
    "locs, labels = plt.xticks()  # Get the current locations and labels.\n",
    "plt.xticks(np.arange(0, 5.5, step=1.1))  # Set label locations.\n",
    "#plt.grid()\n",
    "plt.show()"
   ]
  },
  {
   "cell_type": "code",
   "execution_count": 48,
   "metadata": {},
   "outputs": [
    {
     "data": {
      "image/png": "[encoded data removed]",
      "text/plain": [
       "<Figure size 432x288 with 1 Axes>"
      ]
     },
     "metadata": {
      "needs_background": "light"
     },
     "output_type": "display_data"
    }
   ],
   "source": [
    "plt.plot(resp_test[2].flatten()[2860:2870], 'k', label='empirical response', )\n",
    "plt.plot(probs[2][2860:2870], 'b', label='modeled response')\n",
    "#plt.legend()\n",
    "#plt.xlabel('time bins')\n",
    "#plt.ylabel('spiking probability')\n",
    "#plt.grid()\n",
    "plt.show()"
   ]
  },
  {
   "cell_type": "code",
   "execution_count": null,
   "metadata": {},
   "outputs": [],
   "source": []
  },
  {
   "cell_type": "markdown",
   "metadata": {},
   "source": [
    "### Test first 20 units"
   ]
  },
  {
   "cell_type": "code",
   "execution_count": 9,
   "metadata": {},
   "outputs": [],
   "source": [
    "corrs_full = []\n",
    "corrs_full_sig = []\n",
    "corrs_lin = []\n",
    "corrs_lin_sig = []\n",
    "units = []\n",
    "for unit in clusters:\n",
    "    # pred corr\n",
    "    with open(os.path.join(MNE_test_dset_pred, 'unit-{}_MNE.pkl'.format(unit)), 'rb') as f:       #change\n",
    "        test_dict = pickle.load(f)\n",
    "    stims_test = test_dict['stims_test']\n",
    "    resps_test = test_dict['resps_test']\n",
    "    \n",
    "    with open(os.path.join(exp_path, 'all_1_2_3_MNEs_random_test.pkl'), 'rb') as f:       #change                        \n",
    "        pfinals = pickle.load(f)\n",
    "    pfinal = pfinals[unit]\n",
    "    \n",
    "    probs, corr = evaluate_prediction(pfinal, stims_test, resps_test, sdim=64)\n",
    "    probs_lin, corr_lin = evaluate_pred_lin(pfinal, stims_test, resps_test, sdim=64)\n",
    "    \n",
    "    # sig corr\n",
    "    with open(os.path.join(MNE_test_dset_sig, '_unit-{}_MNE.pkl'.format(unit)), 'rb') as f:\n",
    "        test_dict_sig = pickle.load(f)\n",
    "    stims_test_sig = test_dict_sig['stims_test']\n",
    "    resps_test_sig = test_dict_sig['resps_test']\n",
    "    \n",
    "    with open(os.path.join(exp_path1, 'all_1_2_3_MNEs_random_test.pkl'), 'rb') as f:                          \n",
    "        pfinals_sig = pickle.load(f)\n",
    "    pfinal_sig = pfinals_sig[unit]\n",
    "    \n",
    "    probs_sig, corr_sig = evaluate_prediction(pfinal_sig, stims_test_sig, resps_test_sig, sdim=320)\n",
    "    probs_lin_sig, corr_lin_sig = evaluate_pred_lin(pfinal_sig, stims_test_sig, resps_test_sig, sdim=320)\n",
    "    \n",
    "    # form lists of correlations\n",
    "    corrs_full.append(corr[0])\n",
    "    corrs_lin.append(corr_lin[0])\n",
    "    corrs_full_sig.append(corr_sig[0])\n",
    "    corrs_lin_sig.append(corr_lin_sig[0])\n",
    "    units.append(unit)"
   ]
  },
  {
   "cell_type": "code",
   "execution_count": 10,
   "metadata": {},
   "outputs": [
    {
     "data": {
      "text/plain": [
       "[]"
      ]
     },
     "execution_count": 10,
     "metadata": {},
     "output_type": "execute_result"
    }
   ],
   "source": [
    "ind = [i for i,v in enumerate(corrs_full) if v <= 0]\n",
    "ind"
   ]
  },
  {
   "cell_type": "code",
   "execution_count": 22,
   "metadata": {},
   "outputs": [],
   "source": [
    "corrs_full1 = corrs_full\n",
    "for index in sorted(ind, reverse=True):\n",
    "    del corrs_full1[index]"
   ]
  },
  {
   "cell_type": "code",
   "execution_count": 23,
   "metadata": {},
   "outputs": [],
   "source": [
    "corrs_full_sig1 = corrs_full_sig\n",
    "for index in sorted(ind, reverse=True):\n",
    "    del corrs_full_sig1[index]"
   ]
  },
  {
   "cell_type": "code",
   "execution_count": 11,
   "metadata": {},
   "outputs": [
    {
     "data": {
      "image/png": "[encoded data removed]",
      "text/plain": [
       "<Figure size 432x288 with 1 Axes>"
      ]
     },
     "metadata": {
      "needs_background": "light"
     },
     "output_type": "display_data"
    }
   ],
   "source": [
    "# Plot\n",
    "fig = plt.figure()\n",
    "ax = fig.add_subplot(111)\n",
    "plt.scatter(corrs_full_sig, corrs_full, alpha=0.5)\n",
    "plt.plot([0, 0.8], [0, 0.8], color = 'black', linewidth = 2)\n",
    "ax.set_aspect('equal', adjustable='box')\n",
    "plt.title('temporal model full')\n",
    "plt.xlabel('corr_sig')\n",
    "plt.ylabel('corr_tpm_pred')\n",
    "plt.show()"
   ]
  },
  {
   "cell_type": "code",
   "execution_count": 12,
   "metadata": {},
   "outputs": [
    {
     "data": {
      "image/png": "[encoded data removed]",
      "text/plain": [
       "<Figure size 432x288 with 1 Axes>"
      ]
     },
     "metadata": {
      "needs_background": "light"
     },
     "output_type": "display_data"
    }
   ],
   "source": [
    "# Plot\n",
    "fig = plt.figure()\n",
    "ax = fig.add_subplot(111)\n",
    "plt.scatter(corrs_lin_sig, corrs_lin, alpha=0.5)\n",
    "plt.plot([0, 0.8], [0, 0.8], color = 'black', linewidth = 2)\n",
    "ax.set_aspect('equal', adjustable='box')\n",
    "plt.title('temporal model linear')\n",
    "plt.xlabel('corr_sig')\n",
    "plt.ylabel('corr_tpm_pred')\n",
    "plt.show()"
   ]
  },
  {
   "cell_type": "code",
   "execution_count": 15,
   "metadata": {},
   "outputs": [],
   "source": [
    "diag1 = np.array([0,0])\n",
    "diag2 = np.array([0.8,0.8])\n",
    "perp_dist = []\n",
    "for i in range(len(corrs_full1)):\n",
    "    p = np.array([corrs_full_sig1[i],corrs_full1[i]])\n",
    "    d = np.cross(diag2 - diag1, p - diag1) / np.linalg.norm(diag2 - diag1)\n",
    "    if corrs_full_sig1[i] > corrs_full1[i]:\n",
    "        perp_dist.append(-1*d)\n",
    "    else:\n",
    "        perp_dist.append(d)"
   ]
  },
  {
   "cell_type": "code",
   "execution_count": 16,
   "metadata": {},
   "outputs": [
    {
     "data": {
      "image/png": "[encoded data removed]",
      "text/plain": [
       "<Figure size 432x288 with 1 Axes>"
      ]
     },
     "metadata": {
      "needs_background": "light"
     },
     "output_type": "display_data"
    }
   ],
   "source": [
    "from scipy.stats import norm\n",
    "import statistics\n",
    "\n",
    "perp_dist = np.asarray(perp_dist)\n",
    "plt.hist(perp_dist, 100)\n",
    "  \n",
    "# plotting mean line\n",
    "plt.axvline(perp_dist.mean(), color='k', linestyle='dashed', linewidth=2)\n",
    "  \n",
    "# showing the plot\n",
    "plt.show()"
   ]
  },
  {
   "cell_type": "code",
   "execution_count": null,
   "metadata": {},
   "outputs": [],
   "source": []
  },
  {
   "cell_type": "code",
   "execution_count": null,
   "metadata": {},
   "outputs": [],
   "source": []
  },
  {
   "cell_type": "code",
   "execution_count": 17,
   "metadata": {},
   "outputs": [
    {
     "data": {
      "image/png": "[encoded data removed]",
      "text/plain": [
       "<Figure size 432x288 with 1 Axes>"
      ]
     },
     "metadata": {
      "needs_background": "light"
     },
     "output_type": "display_data"
    }
   ],
   "source": [
    "# Plot\n",
    "fig = plt.figure()\n",
    "ax = fig.add_subplot(111)\n",
    "plt.scatter(units, corrs_full, alpha=0.5)\n",
    "#plt.plot([0, 0.6], [0, 0.6], color = 'black', linewidth = 2)\n",
    "#ax.set_aspect('equal', adjustable='box')\n",
    "plt.title('B1240')\n",
    "plt.xlabel('unit')\n",
    "plt.ylabel('corr_full')\n",
    "plt.show()"
   ]
  },
  {
   "cell_type": "code",
   "execution_count": 15,
   "metadata": {},
   "outputs": [
    {
     "data": {
      "image/png": "[encoded data removed]",
      "text/plain": [
       "<Figure size 432x288 with 1 Axes>"
      ]
     },
     "metadata": {
      "needs_background": "light"
     },
     "output_type": "display_data"
    }
   ],
   "source": [
    "# Plot\n",
    "fig = plt.figure()\n",
    "ax = fig.add_subplot(111)\n",
    "plt.scatter(units, corrs_full, alpha=0.5)\n",
    "#plt.plot([0, 0.6], [0, 0.6], color = 'black', linewidth = 2)\n",
    "#ax.set_aspect('equal', adjustable='box')\n",
    "plt.title('B1240')\n",
    "plt.xlabel('unit')\n",
    "plt.ylabel('corr_full')\n",
    "plt.show()"
   ]
  },
  {
   "cell_type": "code",
   "execution_count": 18,
   "metadata": {},
   "outputs": [
    {
     "data": {
      "image/png": "[encoded data removed]",
      "text/plain": [
       "<Figure size 432x288 with 1 Axes>"
      ]
     },
     "metadata": {
      "needs_background": "light"
     },
     "output_type": "display_data"
    }
   ],
   "source": [
    "# Plot\n",
    "fig = plt.figure()\n",
    "ax = fig.add_subplot(111)\n",
    "plt.scatter(units, corrs_lin, alpha=0.5)\n",
    "#plt.plot([0, 0.6], [0, 0.6], color = 'black', linewidth = 2)\n",
    "#ax.set_aspect('equal', adjustable='box')\n",
    "plt.title('B1240')\n",
    "plt.xlabel('unit')\n",
    "plt.ylabel('corr_lin')\n",
    "plt.show()"
   ]
  },
  {
   "cell_type": "code",
   "execution_count": 16,
   "metadata": {},
   "outputs": [
    {
     "data": {
      "image/png": "[encoded data removed]",
      "text/plain": [
       "<Figure size 432x288 with 1 Axes>"
      ]
     },
     "metadata": {
      "needs_background": "light"
     },
     "output_type": "display_data"
    }
   ],
   "source": [
    "# Plot\n",
    "fig = plt.figure()\n",
    "ax = fig.add_subplot(111)\n",
    "plt.scatter(units, corrs_lin, alpha=0.5)\n",
    "#plt.plot([0, 0.6], [0, 0.6], color = 'black', linewidth = 2)\n",
    "#ax.set_aspect('equal', adjustable='box')\n",
    "plt.title('B1240')\n",
    "plt.xlabel('unit')\n",
    "plt.ylabel('corr_lin')\n",
    "plt.show()"
   ]
  },
  {
   "cell_type": "code",
   "execution_count": null,
   "metadata": {},
   "outputs": [],
   "source": []
  },
  {
   "cell_type": "code",
   "execution_count": null,
   "metadata": {},
   "outputs": [],
   "source": []
  },
  {
   "cell_type": "code",
   "execution_count": null,
   "metadata": {},
   "outputs": [],
   "source": []
  },
  {
   "cell_type": "code",
   "execution_count": 9,
   "metadata": {},
   "outputs": [
    {
     "name": "stdout",
     "output_type": "stream",
     "text": [
      "0.30059669808507755\n",
      "0.34442423207352374\n",
      "0.12489318569219118\n",
      "0.257688643994984\n",
      "0.19969372626022872\n",
      "0.15035933421275122\n",
      "0.19122007665414853\n",
      "0.19510316663148372\n",
      "0.14783440335160733\n",
      "0.1641191563604661\n",
      "0.19855549569136666\n",
      "-0.01836060512280107\n",
      "0.14753009360048858\n",
      "0.1302675130677518\n",
      "0.0489261920218622\n",
      "0.12675123358142334\n",
      "0.09555067127551342\n",
      "0.031964404742560036\n"
     ]
    }
   ],
   "source": [
    "for unit in units_to_process:\n",
    "    with open(os.path.join(test_data_path, '{}_leave/stim_resp_test.pkl'.format(unit)), 'rb') as f:\n",
    "        test_dict = pickle.load(f)\n",
    "\n",
    "    stims_test = test_dict['stims_test']\n",
    "    resps_test = test_dict['resps_test']\n",
    "\n",
    "    with open(os.path.join(exp_path, 'all_mua_MNEs_leave_first_stim.pkl'), 'rb') as f:                             #change\n",
    "        pfinals = pickle.load(f)\n",
    "\n",
    "    pfinal = np.mean(pfinals[unit], axis = 0)\n",
    "    probs, corr = evaluate_prediction(pfinal, stims_test, resps_test)\n",
    "    probs_lin, corr_lin = evaluate_pred_lin(pfinal, stims_test, resps_test)\n",
    "\n",
    "    prob_dict = {'probs':probs, 'probs_lin': probs_lin, 'corr': corr, 'corr_lin': corr_lin}\n",
    "    \n",
    "#    print(corr[0])\n",
    "    print(corr_lin[0])\n",
    "#\n",
    "#    with open(os.path.join(output_path, 'spike_prob_{}.pkl'.format(unit)), 'wb') as f:\n",
    "#        pickle.dump(prob_dict, f)"
   ]
  },
  {
   "cell_type": "code",
   "execution_count": null,
   "metadata": {},
   "outputs": [],
   "source": []
  },
  {
   "cell_type": "code",
   "execution_count": null,
   "metadata": {},
   "outputs": [],
   "source": []
  },
  {
   "cell_type": "code",
   "execution_count": null,
   "metadata": {},
   "outputs": [],
   "source": []
  },
  {
   "cell_type": "code",
   "execution_count": null,
   "metadata": {},
   "outputs": [],
   "source": []
  },
  {
   "cell_type": "code",
   "execution_count": null,
   "metadata": {},
   "outputs": [],
   "source": []
  },
  {
   "cell_type": "code",
   "execution_count": null,
   "metadata": {},
   "outputs": [],
   "source": []
  },
  {
   "cell_type": "code",
   "execution_count": null,
   "metadata": {},
   "outputs": [],
   "source": []
  },
  {
   "cell_type": "code",
   "execution_count": 44,
   "metadata": {},
   "outputs": [
    {
     "name": "stdout",
     "output_type": "stream",
     "text": [
      "2\n"
     ]
    }
   ],
   "source": [
    "unit = 2\n",
    "print(unit)\n",
    "unit_pred = []\n",
    "\n",
    "with open(os.path.join(test_data_path, '{}_leave/stim_resp_test.pkl'.format(unit)), 'rb') as f:\n",
    "    test_dict = pickle.load(f)\n",
    "\n",
    "stims_test = test_dict['stims_test']\n",
    "resps_test = test_dict['resps_test']\n",
    "\n",
    "with open(os.path.join(exp_path, 'all_good_MNEs_leave_first_stim.pkl'), 'rb') as f:\n",
    "    pfinals = pickle.load(f)\n",
    "\n",
    "pfinal_ = np.mean(pfinals[unit], axis = 0)\n",
    "probs, corr = evaluate_prediction(pfinal, stims_test, resps_test)\n",
    "probs_lin, corr_lin = evaluate_pred_lin(pfinal, stims_test, resps_test)\n",
    "\n",
    "prob_dict = {'probs':probs, 'probs_lin': probs_lin, 'corr': corr, 'corr_lin': corr_lin}\n",
    "\n",
    "with open(os.path.join(output_path, 'spike_prob_{}.pkl'.format(unit)), 'wb') as f:\n",
    "    pickle.dump(prob_dict, f)"
   ]
  },
  {
   "cell_type": "code",
   "execution_count": 184,
   "metadata": {},
   "outputs": [
    {
     "name": "stdout",
     "output_type": "stream",
     "text": [
      "2\n"
     ]
    }
   ],
   "source": [
    "unit = 2\n",
    "print(unit)\n",
    "unit_pred = []\n",
    "\n",
    "with open(os.path.join(resp_folder, 'G124-1 -1/good/{}_leave/stim_resp_test.pkl'.format(unit)), 'rb') as f:\n",
    "    test_dict = pickle.load(f)\n",
    "\n",
    "\n",
    "stim_segs = np.asarray([x.flatten() for x in stim_segs_list])\n",
    "\n",
    "### normalize stim_segs\n",
    "norm_stim_segs = (stim_segs - np.min(stim_segs)) / (np.max(stim_segs) - np.min(stim_segs))\n",
    "norm_stim_segs_1 = stim_segs\n",
    "norm_stim_segs_1 /= np.max(np.abs(norm_stim_segs_1),axis=0)\n",
    "\n",
    "resp_segs = segs_dict['resp']\n",
    "\n",
    "with open(os.path.join(exp_path, 'all_good_MNEs_leave_first_stim.pkl'), 'rb') as f:\n",
    "    pfinals = pickle.load(f)\n",
    "\n",
    "for jack, pfinal in enumerate(pfinals[unit]):\n",
    "    probs, probs_lin, spikes = predict_spiking_probability_response(pfinal, norm_stim_segs_1)\n",
    "    jack_dict = {'jack':jack, 'probs':probs, 'probs_lin':probs_lin, 'spikes':spikes}\n",
    "    unit_pred.append(jack_dict)\n",
    "\n",
    "#output_file = os.path.join(output_path, 'spike_probs_resp_leave_first_stim_unit_{}.pkl'.format(unit))    #change\n",
    "#with open(output_file, 'wb') as f:\n",
    "#    pickle.dump(unit_pred, f)    "
   ]
  },
  {
   "cell_type": "code",
   "execution_count": 171,
   "metadata": {},
   "outputs": [
    {
     "data": {
      "text/plain": [
       "(-60.299668594499764, 54.87281572344237)"
      ]
     },
     "execution_count": 171,
     "metadata": {},
     "output_type": "execute_result"
    }
   ],
   "source": [
    "np.min(stim_segs), np.max(stim_segs)"
   ]
  },
  {
   "cell_type": "code",
   "execution_count": 185,
   "metadata": {},
   "outputs": [
    {
     "data": {
      "text/plain": [
       "(-1.0, 1.0)"
      ]
     },
     "execution_count": 185,
     "metadata": {},
     "output_type": "execute_result"
    }
   ],
   "source": [
    "np.min(norm_stim_segs_1), np.max(norm_stim_segs_1)"
   ]
  },
  {
   "cell_type": "code",
   "execution_count": 187,
   "metadata": {},
   "outputs": [
    {
     "data": {
      "text/plain": [
       "(0.0016390483694475478, 0.8520878222044108, 0.19046477869612202)"
      ]
     },
     "execution_count": 187,
     "metadata": {},
     "output_type": "execute_result"
    }
   ],
   "source": [
    "np.min(full_segs), np.max(full_segs), np.mean(full_segs)"
   ]
  },
  {
   "cell_type": "code",
   "execution_count": 192,
   "metadata": {},
   "outputs": [],
   "source": [
    "full_segs = unit_pred[0]['probs']\n",
    "lin_segs = unit_pred[0]['probs_lin']\n",
    "\n",
    "full_segs_1 = full_segs - 0.1\n",
    "\n",
    "for i in full_segs_1:\n",
    "    if i < 0:\n",
    "        i = 0\n",
    "\n",
    "norm_resp_segs = (resp_segs - np.min(resp_segs))/(np.max(resp_segs) - np.min(resp_segs))\n",
    "#norm_full_segs = (full_segs - np.min(full_segs))/(np.max(full_segs) - np.min(full_segs))\n",
    "#norm_lin_segs = (lin_segs - np.min(lin_segs))/(np.max(lin_segs) - np.min(lin_segs))\n"
   ]
  },
  {
   "cell_type": "code",
   "execution_count": 153,
   "metadata": {},
   "outputs": [],
   "source": [
    "full = gaussian_filter1d(full_segs, 15)\n",
    "#orig = gaussian_filter1d(norm_resp_segs[20:], 15)\n",
    "orig = gaussian_filter1d(resp_segs[20:], 15)\n",
    "lin = gaussian_filter1d(lin_segs, 15)"
   ]
  },
  {
   "cell_type": "code",
   "execution_count": 154,
   "metadata": {},
   "outputs": [
    {
     "name": "stdout",
     "output_type": "stream",
     "text": [
      "(0.42936575948509914, 1.882616663682709e-136)\n",
      "[[1.         0.42936576]\n",
      " [0.42936576 1.        ]]\n"
     ]
    }
   ],
   "source": [
    "from scipy.stats.stats import pearsonr  \n",
    "\n",
    "print(pearsonr(orig, full))\n",
    "print(np.corrcoef(orig, full))"
   ]
  },
  {
   "cell_type": "code",
   "execution_count": 183,
   "metadata": {},
   "outputs": [
    {
     "name": "stdout",
     "output_type": "stream",
     "text": [
      "(-0.026367106015829547, 0.1463683592370846)\n",
      "[[ 1.         -0.02636711]\n",
      " [-0.02636711  1.        ]]\n"
     ]
    }
   ],
   "source": [
    "print(pearsonr(norm_resp_segs[20:], full_segs))\n",
    "print(np.corrcoef(norm_resp_segs[20:], full_segs))"
   ]
  },
  {
   "cell_type": "code",
   "execution_count": 180,
   "metadata": {},
   "outputs": [
    {
     "name": "stdout",
     "output_type": "stream",
     "text": [
      "(0.028056858810279136, 0.12220168424019877)\n",
      "[[1.         0.02805686]\n",
      " [0.02805686 1.        ]]\n"
     ]
    }
   ],
   "source": [
    "print(pearsonr(orig, lin))\n",
    "print(np.corrcoef(orig, lin))"
   ]
  },
  {
   "cell_type": "code",
   "execution_count": 198,
   "metadata": {},
   "outputs": [
    {
     "data": {
      "image/png": "[encoded data removed]",
      "text/plain": [
       "<Figure size 432x288 with 1 Axes>"
      ]
     },
     "metadata": {
      "needs_background": "light"
     },
     "output_type": "display_data"
    }
   ],
   "source": [
    "plt.plot(norm_resp_segs[20:][2750:3000], 'k', label='original data')\n",
    "#plt.plot(full_segs_1[2700:2950], 'b', label='full data')\n",
    "plt.legend()\n",
    "plt.grid()\n",
    "plt.show()"
   ]
  },
  {
   "cell_type": "code",
   "execution_count": 196,
   "metadata": {},
   "outputs": [
    {
     "data": {
      "image/png": "[encoded data removed]",
      "text/plain": [
       "<Figure size 432x288 with 1 Axes>"
      ]
     },
     "metadata": {
      "needs_background": "light"
     },
     "output_type": "display_data"
    }
   ],
   "source": [
    "plt.plot(full_segs_1[2700:2950], 'b', label='full data')\n",
    "plt.legend()\n",
    "plt.grid()\n",
    "plt.show()"
   ]
  },
  {
   "cell_type": "code",
   "execution_count": 133,
   "metadata": {},
   "outputs": [
    {
     "data": {
      "image/png": "[encoded data removed]",
      "text/plain": [
       "<Figure size 432x288 with 1 Axes>"
      ]
     },
     "metadata": {
      "needs_background": "light"
     },
     "output_type": "display_data"
    }
   ],
   "source": [
    "plt.plot(lin, 'b', label='linear data')\n",
    "plt.legend()\n",
    "plt.grid()\n",
    "plt.show()"
   ]
  },
  {
   "cell_type": "code",
   "execution_count": null,
   "metadata": {},
   "outputs": [],
   "source": []
  },
  {
   "cell_type": "code",
   "execution_count": null,
   "metadata": {},
   "outputs": [],
   "source": []
  },
  {
   "cell_type": "code",
   "execution_count": 18,
   "metadata": {},
   "outputs": [
    {
     "data": {
      "text/plain": [
       "1.0"
      ]
     },
     "execution_count": 18,
     "metadata": {},
     "output_type": "execute_result"
    }
   ],
   "source": [
    "gaussian_filter1d([1.0, 2.0, 3.0, 4.0, 5.0], 1)\n",
    "array([ 1.42704095,  2.06782203,  3.        ,  3.93217797,  4.57295905])\n",
    "gaussian_filter1d([1.0, 2.0, 3.0, 4.0, 5.0], 4)\n",
    "array([ 2.91948343,  2.95023502,  3.        ,  3.04976498,  3.08051657])\n",
    "import matplotlib.pyplot as plt\n",
    "np.random.seed(280490)\n",
    "x = np.random.randn(101).cumsum()\n",
    "y3 = gaussian_filter1d(x, 3)\n",
    "y6 = gaussian_filter1d(x, 6)\n",
    "plt.plot(x, 'k', label='original data')\n",
    "plt.plot(y3, '--', label='filtered, sigma=3')\n",
    "plt.plot(y6, ':', label='filtered, sigma=6')\n",
    "plt.legend()\n",
    "plt.grid()\n",
    "plt.show()"
   ]
  },
  {
   "cell_type": "code",
   "execution_count": null,
   "metadata": {},
   "outputs": [],
   "source": []
  },
  {
   "cell_type": "code",
   "execution_count": null,
   "metadata": {},
   "outputs": [],
   "source": []
  },
  {
   "cell_type": "code",
   "execution_count": null,
   "metadata": {},
   "outputs": [],
   "source": []
  },
  {
   "cell_type": "code",
   "execution_count": null,
   "metadata": {},
   "outputs": [],
   "source": []
  },
  {
   "cell_type": "code",
   "execution_count": null,
   "metadata": {},
   "outputs": [],
   "source": []
  },
  {
   "cell_type": "code",
   "execution_count": null,
   "metadata": {},
   "outputs": [],
   "source": []
  },
  {
   "cell_type": "code",
   "execution_count": 24,
   "metadata": {},
   "outputs": [],
   "source": [
    "for unit in units_to_process:\n",
    "    print(unit)\n",
    "    unit_pred = []\n",
    "    with open(os.path.join(exp_path, 'all_good_MNEs_leave_first_stim.pkl'), 'rb') as f:\n",
    "        pfinals = pickle.load(f)\n",
    "        \n",
    "    for jack, pfinal in enumerate(pfinals[unit]):\n",
    "        probs, probs_lin, spikes = predict_spiking_probability_response(pfinal, stim_segs)\n",
    "        jack_dict = {'jack':jack, 'probs':probs, 'probs_lin':probs_lin, 'spikes':spikes}\n",
    "        unit_pred.append(jack_dict)\n",
    "    \n",
    "    output_file = os.path.join(output_path, 'spike_probs_resp_leave_first_stim_unit_{}.pkl'.format(unit))    #change\n",
    "    with open(output_file, 'wb') as f:\n",
    "        pickle.dump(unit_pred, f)    "
   ]
  },
  {
   "cell_type": "code",
   "execution_count": 26,
   "metadata": {},
   "outputs": [
    {
     "data": {
      "text/plain": [
       "(3036, 320)"
      ]
     },
     "execution_count": 26,
     "metadata": {},
     "output_type": "execute_result"
    }
   ],
   "source": [
    "np.shape(stim_segs)"
   ]
  },
  {
   "cell_type": "code",
   "execution_count": null,
   "metadata": {},
   "outputs": [],
   "source": []
  },
  {
   "cell_type": "code",
   "execution_count": null,
   "metadata": {},
   "outputs": [],
   "source": []
  },
  {
   "cell_type": "code",
   "execution_count": null,
   "metadata": {},
   "outputs": [],
   "source": []
  },
  {
   "cell_type": "code",
   "execution_count": null,
   "metadata": {},
   "outputs": [],
   "source": [
    "\n",
    "for unit in units_to_process:\n",
    "    print(unit)\n",
    "    with open(os.path.join(exp_path, 'all_good_MNEs_leave_first_stim.pkl'), 'rb') as f:\n",
    "        pfinals = pickle.load(f)\n",
    "    \n",
    "    \n",
    "    \n",
    "    for jack, pfinal in enumerate(pfinals[unit]):\n",
    "        "
   ]
  },
  {
   "cell_type": "code",
   "execution_count": null,
   "metadata": {},
   "outputs": [],
   "source": []
  },
  {
   "cell_type": "code",
   "execution_count": 3,
   "metadata": {},
   "outputs": [],
   "source": [
    "with open(os.path.join(exp_path, 'all_good_MNEs_leavefirst.pkl'), 'rb') as f:\n",
    "    pfinals = pickle.load(f)"
   ]
  },
  {
   "cell_type": "code",
   "execution_count": 6,
   "metadata": {},
   "outputs": [],
   "source": [
    "# mention which cell you want to do predictions for\n",
    "unit = 2\n",
    "\n",
    "sdim=320\n",
    "intercept_avg = 0\n",
    "a_avg = 0\n",
    "j_avg = 0\n",
    "n_jackknives = len(pfinals[unit])\n",
    "for jack, pfinal in enumerate(pfinals[unit]):\n",
    "    # extract a matrix \n",
    "    \n",
    "    intercept = pfinal[0]\n",
    "    intercept_avg += intercept\n",
    "    a = pfinal[1:sdim+1]\n",
    "    a = np.reshape(a,(16,20))\n",
    "    a_avg += a\n",
    "    # extract J matrix\n",
    "    j = pfinal[-1*sdim**2:]\n",
    "    j = np.reshape(j,(sdim,sdim))\n",
    "    j_avg += j\n",
    "\n",
    "intercept_avg /= n_jackknives\n",
    "a_avg /= n_jackknives\n",
    "j_avg /= n_jackknives"
   ]
  },
  {
   "cell_type": "code",
   "execution_count": 10,
   "metadata": {},
   "outputs": [],
   "source": [
    "mne_stims_resps = glob.glob(os.path.join(MNE_prepro_path, '{}/*.pkl'.format(unit)))\n",
    "\n",
    "stims = []\n",
    "resps = []\n",
    "for fpath in mne_stims_resps:\n",
    "    \n",
    "    with open(fpath, 'rb') as f:\n",
    "        mne_stim_data = pickle.load(f)\n",
    "        \n",
    "    # extract stim features and respons\n",
    "    segs = mne_stim_data['segs']\n",
    "    resp = mne_stim_data['resp']\n",
    "    \n",
    "    # Each segment is nfreq x nbins.  Flatten\n",
    "    fl_segs = [np.ravel(x[1]) for x in segs]\n",
    "    \n",
    "    # ignore first however many responses to correspond to each segment\n",
    "    nsegs = len(segs)\n",
    "    nresp = len(resp)\n",
    "    diff = nresp - nsegs\n",
    "    fl_resp = resp[diff:]\n",
    "    assert(len(fl_resp) == len(fl_segs))\n",
    "    \n",
    "    MNE_stim = np.vstack(fl_segs)\n",
    "    MNE_stim /= np.amax(MNE_stim)\n",
    "    MNE_resp = np.copy(fl_resp)[:, np.newaxis]\n",
    "    stims.append(MNE_stim)\n",
    "    resps.append(MNE_resp)\n",
    "    \n",
    "stims = np.vstack(stims)\n",
    "resps = np.vstack(resps)"
   ]
  },
  {
   "cell_type": "code",
   "execution_count": 12,
   "metadata": {},
   "outputs": [],
   "source": [
    "# obtain test set (left out chunk while training)\n",
    "# we will be predicting on this set\n",
    "stims_leave = stims[:3088,:]\n",
    "resps_leave = resps[:3088,:]"
   ]
  },
  {
   "cell_type": "code",
   "execution_count": 70,
   "metadata": {},
   "outputs": [],
   "source": [
    "from scipy.io import savemat\n",
    "savemat_dict = {'intercept': intercept_avg, 'h': a_avg_flatten, 'J': j_avg, \n",
    "                'stims_leave': stims_leave, 'resps_leave': resps_leave}"
   ]
  },
  {
   "cell_type": "code",
   "execution_count": 71,
   "metadata": {},
   "outputs": [],
   "source": [
    "savemat(os.path.join(exp_path, 'savemat_dict_unit2.mat'), savemat_dict)"
   ]
  },
  {
   "cell_type": "code",
   "execution_count": null,
   "metadata": {},
   "outputs": [],
   "source": []
  },
  {
   "cell_type": "code",
   "execution_count": 66,
   "metadata": {},
   "outputs": [],
   "source": [
    "a_avg_flatten = np.reshape(a_avg, (320,1))"
   ]
  },
  {
   "cell_type": "code",
   "execution_count": 37,
   "metadata": {},
   "outputs": [],
   "source": [
    "#f1 = 1+exp(a+stim_p*h'+sum(stim_p.*(stim_p*J),2));\n",
    "a_times_s = np.matmul(stims_leave, np.reshape(a_avg, (320,1)))\n",
    "s_J_s = np.matmul(stims_leave, np.transpose(np.matmul(stims_leave, j_avg))).sum(axis=1)\n",
    "s_J_s = np.reshape(s_J_s, (3088,1))\n",
    "#f1 = 1 + np.exp(intercept_avg + (stims_leave*h)+sum(stim_p.*(stim_p*J),2));"
   ]
  },
  {
   "cell_type": "code",
   "execution_count": 49,
   "metadata": {},
   "outputs": [],
   "source": [
    "as_sJs = np.add(a_times_s, s_J_s)\n",
    "bracket = intercept_avg + as_sJs"
   ]
  },
  {
   "cell_type": "code",
   "execution_count": 53,
   "metadata": {},
   "outputs": [
    {
     "data": {
      "text/plain": [
       "array([[4518.47065655],\n",
       "       [4858.30183117],\n",
       "       [4635.86401708],\n",
       "       ...,\n",
       "       [5378.97327554],\n",
       "       [5057.05062882],\n",
       "       [5490.84074309]])"
      ]
     },
     "execution_count": 53,
     "metadata": {},
     "output_type": "execute_result"
    }
   ],
   "source": [
    "bracket"
   ]
  },
  {
   "cell_type": "code",
   "execution_count": 39,
   "metadata": {},
   "outputs": [
    {
     "name": "stderr",
     "output_type": "stream",
     "text": [
      "<ipython-input-39-34c5d10dcfe3>:1: RuntimeWarning: overflow encountered in exp\n",
      "  denom = 1 + np.exp(intercept_avg + np.add(a_times_s, s_J_s))\n"
     ]
    }
   ],
   "source": [
    "denom = 1 + np.exp(intercept_avg + np.add(a_times_s, s_J_s))\n",
    "p_spike_s = np.reciprocal(denom)"
   ]
  },
  {
   "cell_type": "code",
   "execution_count": 55,
   "metadata": {},
   "outputs": [
    {
     "data": {
      "text/plain": [
       "array([1., 1., 1., 1., 1., 1., 1., 1., 1., 1., 1., 1., 1., 1., 1., 1., 1.,\n",
       "       1., 1., 1., 1., 1., 1., 1., 1., 1., 1., 1., 1., 1., 1., 1., 1., 1.,\n",
       "       1., 1., 1., 1., 1., 1., 1., 1., 1., 1., 1., 1., 1., 1., 1., 1., 1.,\n",
       "       1., 1., 1., 1., 1., 1., 1., 1., 1., 1.])"
      ]
     },
     "execution_count": 55,
     "metadata": {},
     "output_type": "execute_result"
    }
   ],
   "source": [
    "p_spike_s[p_spike_s==1]"
   ]
  },
  {
   "cell_type": "code",
   "execution_count": 54,
   "metadata": {},
   "outputs": [
    {
     "data": {
      "text/plain": [
       "array([[0.25],\n",
       "       [0.25],\n",
       "       [0.2 ],\n",
       "       ...,\n",
       "       [0.25],\n",
       "       [0.05],\n",
       "       [0.15]])"
      ]
     },
     "execution_count": 54,
     "metadata": {},
     "output_type": "execute_result"
    }
   ],
   "source": [
    "resps_leave"
   ]
  },
  {
   "cell_type": "code",
   "execution_count": 58,
   "metadata": {},
   "outputs": [
    {
     "data": {
      "text/plain": [
       "array([[-0.00323502,  0.00110018,  0.00521413, ...,  0.00370731,\n",
       "         0.00431541,  0.00102155],\n",
       "       [ 0.00110018, -0.00514909,  0.00309016, ...,  0.00180266,\n",
       "         0.00098043,  0.00016933],\n",
       "       [ 0.00521413,  0.00309016, -0.00411752, ...,  0.00057524,\n",
       "         0.00112196, -0.00173775],\n",
       "       ...,\n",
       "       [ 0.00370731,  0.00180266,  0.00057524, ..., -0.00708458,\n",
       "         0.00298167,  0.00277341],\n",
       "       [ 0.00431541,  0.00098043,  0.00112196, ...,  0.00298167,\n",
       "        -0.00495064,  0.00016745],\n",
       "       [ 0.00102155,  0.00016933, -0.00173775, ...,  0.00277341,\n",
       "         0.00016745, -0.00694784]])"
      ]
     },
     "execution_count": 58,
     "metadata": {},
     "output_type": "execute_result"
    }
   ],
   "source": [
    "j_avg"
   ]
  },
  {
   "cell_type": "code",
   "execution_count": null,
   "metadata": {},
   "outputs": [],
   "source": []
  }
 ],
 "metadata": {
  "kernelspec": {
   "display_name": "Python 3",
   "language": "python",
   "name": "python3"
  },
  "language_info": {
   "codemirror_mode": {
    "name": "ipython",
    "version": 3
   },
   "file_extension": ".py",
   "mimetype": "text/x-python",
   "name": "python",
   "nbconvert_exporter": "python",
   "pygments_lexer": "ipython3",
   "version": "3.7.10"
  }
 },
 "nbformat": 4,
 "nbformat_minor": 4
}
