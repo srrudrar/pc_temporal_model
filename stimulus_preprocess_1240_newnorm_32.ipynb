{
 "cells": [
  {
   "cell_type": "code",
   "execution_count": 1,
   "metadata": {},
   "outputs": [],
   "source": [
    "import numpy as np\n",
    "from oe_acute import MNE\n",
    "from oe_acute import trial_utils as tu\n",
    "import os\n",
    "import pickle\n",
    "import glob"
   ]
  },
  {
   "cell_type": "code",
   "execution_count": 2,
   "metadata": {},
   "outputs": [],
   "source": [
    "import numpy as np\n",
    "from scipy.io.wavfile import read\n",
    "from scipy import signal\n",
    "from scipy.optimize import minimize\n",
    "import glob\n",
    "import os\n",
    "import pickle\n",
    "from oe_acute import trial_utils as tu\n",
    "import tqdm\n",
    "import matplotlib.pyplot as plt\n",
    "import matplotlib.cm as cm\n",
    "import networkx as nx"
   ]
  },
  {
   "cell_type": "code",
   "execution_count": 3,
   "metadata": {},
   "outputs": [],
   "source": [
    "exp_path = '/mnt/sphere/share/NCM_acute/experiments/B1240/block3/'\n",
    "sort_path =  '/mnt/sphere/share/NCM_acute/sorting/B1240/block3/'\n",
    "stim_path = '/mnt/sphere/share/NCM_acute/MET_prediction_expt/'\n",
    "\n",
    "ratings = [1,2,3]\n",
    "\n",
    "ratings_str = ''.join([str(x) for x in ratings])"
   ]
  },
  {
   "cell_type": "code",
   "execution_count": 4,
   "metadata": {},
   "outputs": [],
   "source": [
    "nperseg=128\n",
    "noverlap=64\n",
    "nfft=128\n",
    "nsegbins=64\n",
    "bp_low=300\n",
    "bp_high=12000\n",
    "bp_order=5\n",
    "preemph_b=0.97\n",
    "ref_level_dB=20\n",
    "min_level_dB=-30\n",
    "\n",
    "spec_all = []\n",
    "stereo_all = []\n",
    "stim_files = glob.glob(os.path.join(stim_path, '*.wav.sine'))\n",
    "stim_files1 = glob.glob(os.path.join(stim_path, '*.wav'))"
   ]
  },
  {
   "cell_type": "code",
   "execution_count": 5,
   "metadata": {},
   "outputs": [],
   "source": [
    "n_rows = 0\n",
    "n_cols = 1\n",
    "nsegbins = 64"
   ]
  },
  {
   "cell_type": "code",
   "execution_count": 6,
   "metadata": {},
   "outputs": [
    {
     "data": {
      "text/plain": [
       "'/mnt/sphere/share/NCM_acute/MET_prediction_expt/4_Z3165_s_09@1___Z3165_s_09@1.wav'"
      ]
     },
     "execution_count": 6,
     "metadata": {},
     "output_type": "execute_result"
    }
   ],
   "source": [
    "stim_files1[0]"
   ]
  },
  {
   "cell_type": "code",
   "execution_count": 7,
   "metadata": {},
   "outputs": [
    {
     "name": "stdout",
     "output_type": "stream",
     "text": [
      "2.585714285714286\n"
     ]
    }
   ],
   "source": [
    "import wave\n",
    "import contextlib\n",
    "fname = stim_files1[0]\n",
    "with contextlib.closing(wave.open(fname,'r')) as f:\n",
    "    frames = f.getnframes()\n",
    "    rate = f.getframerate()\n",
    "    duration = frames / float(rate)\n",
    "    print(duration)"
   ]
  },
  {
   "cell_type": "code",
   "execution_count": 8,
   "metadata": {},
   "outputs": [
    {
     "data": {
      "text/plain": [
       "420"
      ]
     },
     "execution_count": 8,
     "metadata": {},
     "output_type": "execute_result"
    }
   ],
   "source": [
    "420"
   ]
  },
  {
   "cell_type": "code",
   "execution_count": 9,
   "metadata": {},
   "outputs": [
    {
     "name": "stdout",
     "output_type": "stream",
     "text": [
      "3_E6211_s_13@1___E6211_s_13@1\n",
      "666\n",
      "2_A62165_s_62@1___B_G105_s_03_@1\n",
      "320\n",
      "3_Y1_G105_s_02_@2___Y1_G105_s_02_@2\n",
      "217\n",
      "3_aa_G105_s_08_@2___aa_G105_s_08_@2\n",
      "495\n",
      "3_Q6211_s_29@1___Q2211_s_05@2\n",
      "729\n",
      "4_R1211_s_16@2___Q6211_s_29@1\n",
      "805\n",
      "2_E6165_s_12@2___E6165_s_12@2\n",
      "355\n",
      "4_C29165_s_29@1___C29165_s_29@1\n",
      "686\n",
      "4_B8165_s_26@1___B6211_s_08@1\n",
      "834\n",
      "3_ff1_G105_s_06_@1___ff1_G105_s_06_@1\n",
      "1137\n",
      "3_ee_G105_s_05_@2___F2165_s_06@2\n",
      "620\n",
      "3_aa_G105_s_08_@2___A62165_s_62@1\n",
      "478\n",
      "2_N_G105_s_04_@2___N1211_s_04@1\n",
      "439\n",
      "4_O2165_s_18@2___P_G105_s_07_@1\n",
      "570\n",
      "rmp5ms_181-15\n",
      "11271\n",
      "4_B22165_s_22@2___B12165_s_48@1\n",
      "369\n",
      "4_B22211_s_59@1___B22211_s_59@1\n",
      "1180\n",
      "4_I1211_s_04@1___I1211_s_04@1\n",
      "870\n",
      "5_P2165_s_16@1___P6211_s_52@1\n",
      "888\n",
      "4_Z3165_s_09@1___Z3165_s_09@1\n",
      "420\n",
      "3_F1211_s_04@2___F1211_s_04@2\n",
      "686\n",
      "2_N_G105_s_04_@2___M2165_s_20@1\n",
      "410\n",
      "2_B18211_s_58@2___B22165_s_22@2\n",
      "354\n",
      "4_R_G105_s_06_@1___R_G105_s_06_@1\n",
      "657\n",
      "3_L2_G105_s_01_@1___L6211_s_20@2\n",
      "731\n",
      "rmp5ms_G124-1\n",
      "11110\n",
      "2_A62165_s_62@1___Z24211_s_24@1\n",
      "290\n",
      "1_aa_G105_s_08_@2___B2165_s_03@3\n",
      "252\n",
      "2_K_G105_s_05_@1___J6211_s_13@2\n",
      "436\n",
      "2_N1211_s_04@1___M2165_s_20@1\n",
      "334\n",
      "rmp5ms_181-27\n",
      "11271\n",
      "rmp5ms_181-17\n",
      "11271\n",
      "rmp5ms_G122-18\n",
      "7319\n",
      "rmp5ms_180-54\n",
      "8127\n",
      "2_E7165_s_32@1___E6165_s_12@2\n",
      "337\n",
      "4_U1211_s_48@1___R1211_s_16@2\n",
      "882\n",
      "3_C29165_s_29@1___C29165_s_29@1\n",
      "536\n",
      "1_E6211_s_13@1___E2165_s_12@4\n",
      "285\n",
      "4_A3+B3165_s_13@1___A3+B3165_s_13@1\n",
      "882\n",
      "rmp5ms_180-12\n",
      "8262\n",
      "3_T_G105_s_04_@2___T_G105_s_04_@2\n",
      "779\n",
      "rmp5ms_G122-29\n",
      "6191\n",
      "rmp5ms_181-36\n",
      "11271\n",
      "3_A62165_s_62@1___A62165_s_62@1\n",
      "428\n",
      "5_D2165_s_20@3___D6211_s_15@1\n",
      "915\n",
      "4_G6165_s_26@1___G6165_s_26@1\n",
      "605\n",
      "4_D1211_s_04@2___D6165_s_16@1\n",
      "682\n",
      "3_N1211_s_04@1___N1211_s_04@1\n",
      "506\n",
      "rmp5ms_G124-17\n",
      "11110\n",
      "3_G2211_s_09@2___G2211_s_09@2\n",
      "471\n",
      "2_J22165_s_59@1___J32165_s_35@1\n",
      "748\n",
      "rmp5ms_181-11\n",
      "11271\n",
      "2_D7165_s_07@2___D7165_s_07@2\n",
      "426\n",
      "1_B18211_s_58@2___B12165_s_48@1\n",
      "372\n",
      "5_Q6211_s_29@1___Q2211_s_05@2\n",
      "1142\n",
      "3_D6211_s_15@1___D6211_s_15@1\n",
      "904\n",
      "3_J1211_s_03@2___J1211_s_03@2\n",
      "915\n",
      "3_L1_G105_s_06_@1___L1_G105_s_06_@1\n",
      "738\n",
      "3_M_G105_s_06_@1___M_G105_s_06_@1\n",
      "848\n",
      "3_K1_G105_s_04_@1___K2165_s_06@2\n",
      "560\n"
     ]
    }
   ],
   "source": [
    "stim_spec1, stim_resp1 = MNE.prepare_stim_resp_dset(exp_path, sort_path, stim_path, stim_preprocess_func=MNE.preprocess_wav_AVGN, ratings=ratings, avg_nrows=n_rows, avg_ncols=n_cols)"
   ]
  },
  {
   "cell_type": "code",
   "execution_count": null,
   "metadata": {},
   "outputs": [],
   "source": []
  },
  {
   "cell_type": "code",
   "execution_count": 10,
   "metadata": {},
   "outputs": [
    {
     "data": {
      "text/plain": [
       "((64, 730), (214, 730))"
      ]
     },
     "execution_count": 10,
     "metadata": {},
     "output_type": "execute_result"
    }
   ],
   "source": [
    "np.shape(stim_spec1[0]), np.shape(stim_resp1[0])"
   ]
  },
  {
   "cell_type": "code",
   "execution_count": 11,
   "metadata": {},
   "outputs": [
    {
     "data": {
      "text/plain": [
       "(60, 60)"
      ]
     },
     "execution_count": 11,
     "metadata": {},
     "output_type": "execute_result"
    }
   ],
   "source": [
    "len(stim_spec1), len(stim_resp1)"
   ]
  },
  {
   "cell_type": "markdown",
   "metadata": {},
   "source": [
    "### Load stim_spec, stim_resp"
   ]
  },
  {
   "cell_type": "code",
   "execution_count": 10,
   "metadata": {},
   "outputs": [],
   "source": [
    "#spec_f = '/mnt/cube/srrudrar/stim_preprocess/B1240/temporal_model/stim_spec.pkl'\n",
    "#with open(spec_f, 'rb') as f:\n",
    "#    stim_spec = pickle.load(f)\n",
    "\n",
    "#resp_f = '/mnt/cube/srrudrar/stim_preprocess/temporal_model/stim_resp.pkl'\n",
    "#with open(resp_f, 'rb') as f:\n",
    "#    stim_resp = pickle.load(f)\n",
    "\n",
    "segs_list = np.load('/mnt/cube/srrudrar/stim_preprocess/B1240/segs_list_32.pkl', allow_pickle=True)\n",
    "next_list = np.load('/mnt/cube/srrudrar/stim_preprocess/B1240/next_list_32.pkl', allow_pickle=True)"
   ]
  },
  {
   "cell_type": "code",
   "execution_count": 12,
   "metadata": {},
   "outputs": [],
   "source": [
    "stim_resp = segs_list[:,32:,:]"
   ]
  },
  {
   "cell_type": "code",
   "execution_count": 14,
   "metadata": {},
   "outputs": [
    {
     "data": {
      "text/plain": [
       "<matplotlib.image.AxesImage at 0x7fb722c406d0>"
      ]
     },
     "execution_count": 14,
     "metadata": {},
     "output_type": "execute_result"
    },
    {
     "data": {
      "image/png": "[encoded data removed]",
      "text/plain": [
       "<Figure size 1440x576 with 1 Axes>"
      ]
     },
     "metadata": {
      "needs_background": "light"
     },
     "output_type": "display_data"
    }
   ],
   "source": [
    "ax = plt.subplots(figsize=(20,8))\n",
    "plt.imshow(np.transpose(stim_resp[:100, 100, :]), origin='lower', cmap='gray')"
   ]
  },
  {
   "cell_type": "code",
   "execution_count": 13,
   "metadata": {},
   "outputs": [
    {
     "data": {
      "text/plain": [
       "((57063, 246, 32), (57063, 246), (57063, 214, 32))"
      ]
     },
     "execution_count": 13,
     "metadata": {},
     "output_type": "execute_result"
    }
   ],
   "source": [
    "np.shape(segs_list), np.shape(next_list), np.shape(stim_resp)"
   ]
  },
  {
   "cell_type": "code",
   "execution_count": 14,
   "metadata": {},
   "outputs": [],
   "source": [
    "stim_spec = stim_spec1\n",
    "stim_resp = stim_resp1"
   ]
  },
  {
   "cell_type": "code",
   "execution_count": 15,
   "metadata": {},
   "outputs": [
    {
     "data": {
      "text/plain": [
       "(list, list)"
      ]
     },
     "execution_count": 15,
     "metadata": {},
     "output_type": "execute_result"
    }
   ],
   "source": [
    "type(stim_spec), type(stim_resp)"
   ]
  },
  {
   "cell_type": "code",
   "execution_count": 8,
   "metadata": {},
   "outputs": [],
   "source": [
    "#dset_segs = MNE.prepare_AE_dset(stim_spec, stim_resp, nsegbins=nsegbins, thresh=0.01)"
   ]
  },
  {
   "cell_type": "code",
   "execution_count": 17,
   "metadata": {},
   "outputs": [
    {
     "name": "stdout",
     "output_type": "stream",
     "text": [
      "Final shape: (114137, 278, 64)\n",
      "Next shape: (114137, 278)\n"
     ]
    }
   ],
   "source": [
    "dsegs, spec1 = MNE.prepare_temporal_dset(stim_spec1, stim_resp1, nsegbins=nsegbins, thresh=0.01)"
   ]
  },
  {
   "cell_type": "code",
   "execution_count": null,
   "metadata": {},
   "outputs": [],
   "source": []
  },
  {
   "cell_type": "markdown",
   "metadata": {},
   "source": [
    "### Reduce to 16 bins"
   ]
  },
  {
   "cell_type": "code",
   "execution_count": 18,
   "metadata": {},
   "outputs": [
    {
     "data": {
      "text/plain": [
       "((64, 730), (214, 730))"
      ]
     },
     "execution_count": 18,
     "metadata": {},
     "output_type": "execute_result"
    }
   ],
   "source": [
    "np.shape(stim_spec1[0]), np.shape(stim_resp1[0])"
   ]
  },
  {
   "cell_type": "code",
   "execution_count": 19,
   "metadata": {},
   "outputs": [],
   "source": [
    "stim_spec_32 = []\n",
    "for stim in stim_spec:\n",
    "    stim_32 = MNE.kozlov_averaging(stim, n_rows=1, n_cols=0)\n",
    "    stim_spec_32.append(stim_32)"
   ]
  },
  {
   "cell_type": "code",
   "execution_count": 20,
   "metadata": {},
   "outputs": [],
   "source": [
    "nsegbins1 = 32"
   ]
  },
  {
   "cell_type": "code",
   "execution_count": 21,
   "metadata": {},
   "outputs": [
    {
     "name": "stdout",
     "output_type": "stream",
     "text": [
      "Final shape: (108570, 246, 32)\n",
      "Next shape: (108570, 246)\n"
     ]
    }
   ],
   "source": [
    "dsegs_32, spec1_32 = MNE.prepare_temporal_dset(stim_spec_32, stim_resp1, nsegbins=nsegbins1, thresh=0.01)"
   ]
  },
  {
   "cell_type": "code",
   "execution_count": 22,
   "metadata": {},
   "outputs": [],
   "source": [
    "bird = 'B1240'"
   ]
  },
  {
   "cell_type": "code",
   "execution_count": 24,
   "metadata": {},
   "outputs": [],
   "source": [
    "spec_segs_name = '/mnt/cube/srrudrar/stim_preprocess/{}/segs_list_{}_32_part1.pkl'.format(bird,bird)\n",
    "with open(spec_segs_name, 'wb') as f:\n",
    "    pickle.dump(dsegs_32[:50000,:,:], f)\n",
    "    \n",
    "spec_segs_name = '/mnt/cube/srrudrar/stim_preprocess/{}/segs_list_{}_32_part2.pkl'.format(bird,bird)\n",
    "with open(spec_segs_name, 'wb') as f:\n",
    "    pickle.dump(dsegs_32[50000:,:,:], f)"
   ]
  },
  {
   "cell_type": "code",
   "execution_count": 25,
   "metadata": {},
   "outputs": [],
   "source": [
    "spec_next_name = '/mnt/cube/srrudrar/stim_preprocess/{}/next_list_{}_32.pkl'.format(bird,bird)\n",
    "with open(spec_next_name, 'wb') as f:\n",
    "    pickle.dump(spec1_32, f)"
   ]
  },
  {
   "cell_type": "code",
   "execution_count": null,
   "metadata": {},
   "outputs": [],
   "source": []
  }
 ],
 "metadata": {
  "kernelspec": {
   "display_name": "Python 3",
   "language": "python",
   "name": "python3"
  },
  "language_info": {
   "codemirror_mode": {
    "name": "ipython",
    "version": 3
   },
   "file_extension": ".py",
   "mimetype": "text/x-python",
   "name": "python",
   "nbconvert_exporter": "python",
   "pygments_lexer": "ipython3",
   "version": "3.7.10"
  }
 },
 "nbformat": 4,
 "nbformat_minor": 2
}
