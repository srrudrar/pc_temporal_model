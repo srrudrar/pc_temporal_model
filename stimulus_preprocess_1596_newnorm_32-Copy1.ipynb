{
 "cells": [
  {
   "cell_type": "code",
   "execution_count": 1,
   "metadata": {},
   "outputs": [],
   "source": [
    "import numpy as np\n",
    "from oe_acute import MNE\n",
    "from oe_acute import trial_utils as tu\n",
    "import os\n",
    "import pickle\n",
    "import glob"
   ]
  },
  {
   "cell_type": "code",
   "execution_count": 2,
   "metadata": {},
   "outputs": [],
   "source": [
    "import numpy as np\n",
    "from scipy.io.wavfile import read\n",
    "from scipy import signal\n",
    "from scipy.optimize import minimize\n",
    "import glob\n",
    "import os\n",
    "import pickle\n",
    "from oe_acute import trial_utils as tu\n",
    "import tqdm\n",
    "import matplotlib.pyplot as plt\n",
    "import matplotlib.cm as cm\n",
    "import networkx as nx"
   ]
  },
  {
   "cell_type": "code",
   "execution_count": 3,
   "metadata": {},
   "outputs": [],
   "source": [
    "#exp_path = '/mnt/sphere/share/NCM_acute/experiments/B1596/block4/'\n",
    "#sort_path =  '/mnt/sphere/share/NCM_acute/sorting/B1596/block4/'\n",
    "exp_path = '/mnt/cube/mturvz/analysis/2019_08_16/sorted/201908170005-B1424-block-6-AP-2500-ML-500-Z-1500/2019-08-17_00-05-05/'\n",
    "sort_path = '/mnt/cube/mturvz/analysis/2019_08_16/sorted/201908170005-B1424-block-6-AP-2500-ML-500-Z-1500/2019-08-17_00-05-05/'\n",
    "#sort_path =  '/mnt/cube/srrudrar/sorted/B1692/block7/continuous/Rhythm_FPGA-100.0/'\n",
    "stim_path = '/mnt/sphere/share/NCM_acute/MET_prediction_expt/'\n",
    "\n",
    "ratings = [1,2,3]\n",
    "\n",
    "ratings_str = ''.join([str(x) for x in ratings])"
   ]
  },
  {
   "cell_type": "code",
   "execution_count": 4,
   "metadata": {},
   "outputs": [],
   "source": [
    "clusters = []\n",
    "for rating in ratings:\n",
    "    x = tu.get_clusters_by_rating(sort_path, rating)\n",
    "    clusters.extend(x)"
   ]
  },
  {
   "cell_type": "code",
   "execution_count": 5,
   "metadata": {},
   "outputs": [],
   "source": [
    "n_cells = len(clusters)"
   ]
  },
  {
   "cell_type": "code",
   "execution_count": 6,
   "metadata": {},
   "outputs": [],
   "source": [
    "np.save('/mnt/cube/srrudrar/temporal_model/units_to_process_B1425_block6.npy', clusters)  "
   ]
  },
  {
   "cell_type": "code",
   "execution_count": 6,
   "metadata": {},
   "outputs": [],
   "source": [
    "nperseg=128\n",
    "noverlap=64\n",
    "nfft=128\n",
    "nsegbins=64\n",
    "bp_low=300\n",
    "bp_high=12000\n",
    "bp_order=5\n",
    "preemph_b=0.97\n",
    "ref_level_dB=20\n",
    "min_level_dB=-30\n",
    "\n",
    "spec_all = []\n",
    "stereo_all = []\n",
    "stim_files = glob.glob(os.path.join(stim_path, '*.wav.sine'))"
   ]
  },
  {
   "cell_type": "code",
   "execution_count": 7,
   "metadata": {},
   "outputs": [],
   "source": [
    "n_rows = 0\n",
    "n_cols = 1\n",
    "nsegbins = 64"
   ]
  },
  {
   "cell_type": "code",
   "execution_count": 8,
   "metadata": {},
   "outputs": [],
   "source": [
    "### get stim and resp"
   ]
  },
  {
   "cell_type": "code",
   "execution_count": 10,
   "metadata": {},
   "outputs": [
    {
     "ename": "ValueError",
     "evalue": "unsupported pickle protocol: 5",
     "output_type": "error",
     "traceback": [
      "\u001b[0;31m---------------------------------------------------------------------------\u001b[0m",
      "\u001b[0;31mValueError\u001b[0m                                Traceback (most recent call last)",
      "\u001b[0;32m<ipython-input-10-18e9c9fab928>\u001b[0m in \u001b[0;36m<module>\u001b[0;34m\u001b[0m\n\u001b[1;32m      1\u001b[0m \u001b[0;32mimport\u001b[0m \u001b[0mpickle\u001b[0m \u001b[0;32mas\u001b[0m \u001b[0mpkl\u001b[0m\u001b[0;34m\u001b[0m\u001b[0;34m\u001b[0m\u001b[0m\n\u001b[1;32m      2\u001b[0m \u001b[0;32mwith\u001b[0m \u001b[0mopen\u001b[0m\u001b[0;34m(\u001b[0m\u001b[0mos\u001b[0m\u001b[0;34m.\u001b[0m\u001b[0mpath\u001b[0m\u001b[0;34m.\u001b[0m\u001b[0mjoin\u001b[0m\u001b[0;34m(\u001b[0m\u001b[0mexp_path\u001b[0m\u001b[0;34m,\u001b[0m \u001b[0;34m'exp_dict.pkl'\u001b[0m\u001b[0;34m)\u001b[0m\u001b[0;34m,\u001b[0m \u001b[0;34m'rb'\u001b[0m\u001b[0;34m)\u001b[0m \u001b[0;32mas\u001b[0m \u001b[0mf\u001b[0m\u001b[0;34m:\u001b[0m\u001b[0;34m\u001b[0m\u001b[0;34m\u001b[0m\u001b[0m\n\u001b[0;32m----> 3\u001b[0;31m     \u001b[0mexp_dict\u001b[0m \u001b[0;34m=\u001b[0m \u001b[0mpkl\u001b[0m\u001b[0;34m.\u001b[0m\u001b[0mload\u001b[0m\u001b[0;34m(\u001b[0m\u001b[0mf\u001b[0m\u001b[0;34m)\u001b[0m\u001b[0;34m\u001b[0m\u001b[0;34m\u001b[0m\u001b[0m\n\u001b[0m",
      "\u001b[0;31mValueError\u001b[0m: unsupported pickle protocol: 5"
     ]
    }
   ],
   "source": [
    "import pickle as pkl\n",
    "with open(os.path.join(exp_path, 'exp_dict.pkl'), 'rb') as f:\n",
    "    exp_dict = pkl.load(f)"
   ]
  },
  {
   "cell_type": "code",
   "execution_count": 10,
   "metadata": {},
   "outputs": [],
   "source": [
    "stim_files = glob.glob(os.path.join(stim_path, '*.wav.sine'))\n",
    "fs = exp_dict['fs']\n",
    "n_channels = exp_dict['n_channels']\n",
    "stim_names = exp_dict['stim_names']\n",
    "stim_trials = exp_dict['stim_trials']"
   ]
  },
  {
   "cell_type": "code",
   "execution_count": 11,
   "metadata": {},
   "outputs": [],
   "source": [
    "spike_times, spike_clusters = tu.get_spikes(sort_path)\n",
    "window = (0, 0)\n",
    "clusters = []\n",
    "for rating in ratings:\n",
    "    x = tu.get_clusters_by_rating(sort_path, rating)\n",
    "    clusters.extend(x)\n",
    "\n",
    "n_cells = len(clusters)"
   ]
  },
  {
   "cell_type": "code",
   "execution_count": 12,
   "metadata": {},
   "outputs": [],
   "source": [
    "stim_preprocess_func = MNE.preprocess_wav_AVGN\n",
    "avg_nrows = n_rows\n",
    "avg_ncols = n_cols\n",
    "avg_trials = True"
   ]
  },
  {
   "cell_type": "code",
   "execution_count": 13,
   "metadata": {},
   "outputs": [],
   "source": [
    "stim_spec1 = []\n",
    "#stim_resp1 = []\n",
    "# for each stimulus\n",
    "for stim_f in stim_files:\n",
    "    #print(stim_f)\n",
    "    stim_AVGN_spectrogram = stim_preprocess_func(stim_f)\n",
    "    stim_spec1.append(stim_AVGN_spectrogram)"
   ]
  },
  {
   "cell_type": "code",
   "execution_count": 17,
   "metadata": {},
   "outputs": [],
   "source": [
    "stim_spec_32 = []\n",
    "for stim in stim_spec1:\n",
    "    stim_32 = MNE.kozlov_averaging(stim, n_rows=1, n_cols=0)\n",
    "    stim_spec_32.append(stim_32)"
   ]
  },
  {
   "cell_type": "code",
   "execution_count": null,
   "metadata": {},
   "outputs": [],
   "source": []
  },
  {
   "cell_type": "code",
   "execution_count": 20,
   "metadata": {},
   "outputs": [
    {
     "data": {
      "text/plain": [
       "(32, 1369)"
      ]
     },
     "execution_count": 20,
     "metadata": {},
     "output_type": "execute_result"
    }
   ],
   "source": [
    "np.shape(stim_spec_32[10])"
   ]
  },
  {
   "cell_type": "code",
   "execution_count": 24,
   "metadata": {},
   "outputs": [
    {
     "data": {
      "text/plain": [
       "Text(0.5, 1.05, 'Mel Spectrogram')"
      ]
     },
     "execution_count": 24,
     "metadata": {},
     "output_type": "execute_result"
    },
    {
     "data": {
      "image/png": "[encoded data removed]",
      "text/plain": [
       "<Figure size 1440x360 with 2 Axes>"
      ]
     },
     "metadata": {
      "needs_background": "light"
     },
     "output_type": "display_data"
    }
   ],
   "source": [
    "fig, ax = plt.subplots(nrows=1,ncols=1, figsize=(20,5))\n",
    "cax = ax.matshow(stim_spec_32[10], interpolation='nearest', aspect='auto', cmap=plt.cm.afmhot, origin='lower')\n",
    "fig.colorbar(cax)\n",
    "plt.title('Mel Spectrogram')"
   ]
  },
  {
   "cell_type": "code",
   "execution_count": 45,
   "metadata": {},
   "outputs": [
    {
     "data": {
      "text/plain": [
       "<matplotlib.colorbar.Colorbar at 0x7efbadcb5b50>"
      ]
     },
     "execution_count": 45,
     "metadata": {},
     "output_type": "execute_result"
    },
    {
     "data": {
      "image/png": "[encoded data removed]",
      "text/plain": [
       "<Figure size 2880x360 with 2 Axes>"
      ]
     },
     "metadata": {
      "needs_background": "light"
     },
     "output_type": "display_data"
    }
   ],
   "source": [
    "fig, ax = plt.subplots(nrows=1,ncols=1, figsize=(40,5))\n",
    "cax = ax.matshow(stim_spec_32[10][:,600:900], interpolation='nearest', aspect='auto', cmap=plt.cm.afmhot, origin='lower')\n",
    "fig.colorbar(cax)\n",
    "#plt.yticks([0, 3, 6, 9, 12])\n",
    "\n",
    "#plt.savefig(\"/mnt/cube/srrudrar/paper1/figures/figure1_pc_nn_arch/spec.svg\")"
   ]
  },
  {
   "cell_type": "code",
   "execution_count": 28,
   "metadata": {},
   "outputs": [],
   "source": [
    "from scipy.io import wavfile\n",
    "samplerate, data = wavfile.read(stim_files[10])"
   ]
  },
  {
   "cell_type": "code",
   "execution_count": 33,
   "metadata": {},
   "outputs": [
    {
     "name": "stdout",
     "output_type": "stream",
     "text": [
      "3.653605442176871\n"
     ]
    }
   ],
   "source": [
    "import wave\n",
    "import contextlib\n",
    "fname = stim_files[10]\n",
    "with contextlib.closing(wave.open(fname,'r')) as f:\n",
    "    frames = f.getnframes()\n",
    "    rate = f.getframerate()\n",
    "    duration = frames / float(rate)\n",
    "    print(duration)"
   ]
  },
  {
   "cell_type": "code",
   "execution_count": 38,
   "metadata": {},
   "outputs": [
    {
     "data": {
      "text/plain": [
       "(70616.80058436815, 105925.20087655223)"
      ]
     },
     "execution_count": 38,
     "metadata": {},
     "output_type": "execute_result"
    }
   ],
   "source": [
    "frames/np.shape(stim_spec_32[10])[1]*600, frames/np.shape(stim_spec_32[10])[1]*900"
   ]
  },
  {
   "cell_type": "code",
   "execution_count": 41,
   "metadata": {},
   "outputs": [
    {
     "data": {
      "text/plain": [
       "[<matplotlib.lines.Line2D at 0x7efbadfceb50>,\n",
       " <matplotlib.lines.Line2D at 0x7efbadf65dd0>]"
      ]
     },
     "execution_count": 41,
     "metadata": {},
     "output_type": "execute_result"
    },
    {
     "data": {
      "image/png": "[encoded data removed]",
      "text/plain": [
       "<Figure size 1440x360 with 1 Axes>"
      ]
     },
     "metadata": {
      "needs_background": "light"
     },
     "output_type": "display_data"
    }
   ],
   "source": [
    "fig, ax = plt.subplots(nrows=1,ncols=1, figsize=(20,5))\n",
    "ax.plot(data[70617:105925])"
   ]
  },
  {
   "cell_type": "code",
   "execution_count": null,
   "metadata": {},
   "outputs": [],
   "source": []
  },
  {
   "cell_type": "code",
   "execution_count": null,
   "metadata": {},
   "outputs": [],
   "source": []
  },
  {
   "cell_type": "code",
   "execution_count": null,
   "metadata": {},
   "outputs": [],
   "source": []
  },
  {
   "cell_type": "code",
   "execution_count": 15,
   "metadata": {},
   "outputs": [
    {
     "name": "stdout",
     "output_type": "stream",
     "text": [
      "3_E6211_s_13@1___E6211_s_13@1\n",
      "666\n",
      "2_A62165_s_62@1___B_G105_s_03_@1\n",
      "320\n",
      "3_Y1_G105_s_02_@2___Y1_G105_s_02_@2\n",
      "217\n",
      "3_aa_G105_s_08_@2___aa_G105_s_08_@2\n",
      "495\n",
      "3_Q6211_s_29@1___Q2211_s_05@2\n",
      "729\n",
      "4_R1211_s_16@2___Q6211_s_29@1\n",
      "805\n",
      "2_E6165_s_12@2___E6165_s_12@2\n",
      "355\n",
      "4_C29165_s_29@1___C29165_s_29@1\n",
      "686\n",
      "4_B8165_s_26@1___B6211_s_08@1\n",
      "834\n",
      "3_ff1_G105_s_06_@1___ff1_G105_s_06_@1\n",
      "1137\n",
      "3_ee_G105_s_05_@2___F2165_s_06@2\n",
      "620\n",
      "3_aa_G105_s_08_@2___A62165_s_62@1\n",
      "478\n",
      "2_N_G105_s_04_@2___N1211_s_04@1\n",
      "439\n",
      "4_O2165_s_18@2___P_G105_s_07_@1\n",
      "570\n",
      "rmp5ms_181-15\n",
      "11271\n",
      "4_B22165_s_22@2___B12165_s_48@1\n",
      "369\n",
      "4_B22211_s_59@1___B22211_s_59@1\n",
      "1180\n",
      "4_I1211_s_04@1___I1211_s_04@1\n",
      "870\n",
      "5_P2165_s_16@1___P6211_s_52@1\n",
      "888\n",
      "4_Z3165_s_09@1___Z3165_s_09@1\n",
      "420\n",
      "3_F1211_s_04@2___F1211_s_04@2\n",
      "686\n",
      "2_N_G105_s_04_@2___M2165_s_20@1\n",
      "410\n",
      "2_B18211_s_58@2___B22165_s_22@2\n",
      "354\n",
      "4_R_G105_s_06_@1___R_G105_s_06_@1\n",
      "657\n",
      "3_L2_G105_s_01_@1___L6211_s_20@2\n",
      "731\n",
      "rmp5ms_G124-1\n",
      "11110\n",
      "2_A62165_s_62@1___Z24211_s_24@1\n",
      "290\n",
      "1_aa_G105_s_08_@2___B2165_s_03@3\n",
      "252\n",
      "2_K_G105_s_05_@1___J6211_s_13@2\n",
      "436\n",
      "2_N1211_s_04@1___M2165_s_20@1\n",
      "334\n",
      "rmp5ms_181-27\n",
      "11271\n",
      "rmp5ms_181-17\n",
      "11271\n",
      "rmp5ms_G122-18\n",
      "7319\n",
      "rmp5ms_180-54\n",
      "8127\n",
      "2_E7165_s_32@1___E6165_s_12@2\n",
      "337\n",
      "4_U1211_s_48@1___R1211_s_16@2\n",
      "882\n",
      "3_C29165_s_29@1___C29165_s_29@1\n",
      "536\n",
      "1_E6211_s_13@1___E2165_s_12@4\n",
      "285\n",
      "4_A3+B3165_s_13@1___A3+B3165_s_13@1\n",
      "882\n",
      "rmp5ms_180-12\n",
      "8262\n",
      "3_T_G105_s_04_@2___T_G105_s_04_@2\n",
      "779\n",
      "rmp5ms_G122-29\n",
      "6191\n",
      "rmp5ms_181-36\n",
      "11271\n",
      "3_A62165_s_62@1___A62165_s_62@1\n",
      "428\n",
      "5_D2165_s_20@3___D6211_s_15@1\n",
      "915\n",
      "4_G6165_s_26@1___G6165_s_26@1\n",
      "605\n",
      "4_D1211_s_04@2___D6165_s_16@1\n",
      "682\n",
      "3_N1211_s_04@1___N1211_s_04@1\n",
      "506\n",
      "rmp5ms_G124-17\n",
      "11110\n",
      "3_G2211_s_09@2___G2211_s_09@2\n",
      "471\n",
      "2_J22165_s_59@1___J32165_s_35@1\n",
      "748\n",
      "rmp5ms_181-11\n",
      "11271\n",
      "2_D7165_s_07@2___D7165_s_07@2\n",
      "426\n",
      "1_B18211_s_58@2___B12165_s_48@1\n",
      "372\n",
      "5_Q6211_s_29@1___Q2211_s_05@2\n",
      "1142\n",
      "3_D6211_s_15@1___D6211_s_15@1\n",
      "904\n",
      "3_J1211_s_03@2___J1211_s_03@2\n",
      "915\n",
      "3_L1_G105_s_06_@1___L1_G105_s_06_@1\n",
      "738\n",
      "3_M_G105_s_06_@1___M_G105_s_06_@1\n",
      "848\n",
      "3_K1_G105_s_04_@1___K2165_s_06@2\n",
      "560\n"
     ]
    }
   ],
   "source": [
    "stim_spec1 = []\n",
    "stim_resp1 = []\n",
    "# for each stimulus\n",
    "for stim_f in stim_files:\n",
    "    #print(stim_f)\n",
    "\n",
    "    stim_AVGN_spectrogram = stim_preprocess_func(stim_f)\n",
    "\n",
    "    stim_name = os.path.split(stim_f)[-1]\n",
    "    stim_name = stim_name.split('.')[0]\n",
    "    print(stim_name)\n",
    "\n",
    "    n_bins = stim_AVGN_spectrogram.shape[1]\n",
    "    stim_len = stim_trials[stim_name]['n_samps']\n",
    "    n_trials = stim_trials[stim_name]['trials'].shape[0]\n",
    "\n",
    "    if avg_trials:\n",
    "        stim_response_mtx = np.zeros((n_cells, n_bins))\n",
    "    else:\n",
    "        stim_response_mtx = np.zeros((n_cells, n_bins, n_trials), dtype=np.uint16)\n",
    "\n",
    "    # Go through each unit collecting its mean spike count\n",
    "    for unit_idx, unit in enumerate(sorted(clusters)):\n",
    "\n",
    "        unit_trial_spikes = tu.get_unit_stim_spike_train(stim_trials[stim_name]['trials'], spike_times,\n",
    "                                                         spike_clusters, unit, window, fs)\n",
    "        binned_spikes = MNE.bin_trial_spikes(unit_trial_spikes, stim_len, n_bins)\n",
    "        if avg_trials:\n",
    "            mean_spike_count = np.mean(binned_spikes, axis=0)\n",
    "            stim_response_mtx[unit_idx, :] = mean_spike_count\n",
    "        else:\n",
    "            stim_response_mtx[unit_idx, :, :] = binned_spikes.T\n",
    "\n",
    "    stim_AVGN_spectrogram = MNE.kozlov_averaging(stim_AVGN_spectrogram, n_rows=avg_nrows, n_cols=avg_ncols)\n",
    "    stim_response_mtx = MNE.kozlov_averaging(stim_response_mtx, n_rows=0, n_cols=avg_ncols) # only average response overt time bins\\\n",
    "\n",
    "    print(np.shape(stim_AVGN_spectrogram)[1] - 64)\n",
    "    stim_spec1.append(stim_AVGN_spectrogram)\n",
    "    stim_resp1.append(stim_response_mtx)"
   ]
  },
  {
   "cell_type": "code",
   "execution_count": null,
   "metadata": {},
   "outputs": [],
   "source": [
    "#stim_spec1, stim_resp1 = MNE.prepare_stim_resp_dset(exp_path, sort_path, stim_path, stim_preprocess_func=MNE.preprocess_wav_AVGN, ratings=ratings, avg_nrows=n_rows, avg_ncols=n_cols)"
   ]
  },
  {
   "cell_type": "code",
   "execution_count": 17,
   "metadata": {},
   "outputs": [
    {
     "data": {
      "text/plain": [
       "(list, list)"
      ]
     },
     "execution_count": 17,
     "metadata": {},
     "output_type": "execute_result"
    }
   ],
   "source": [
    "type(stim_spec1), type(stim_resp1)"
   ]
  },
  {
   "cell_type": "code",
   "execution_count": 19,
   "metadata": {},
   "outputs": [
    {
     "name": "stdout",
     "output_type": "stream",
     "text": [
      "Final shape: (114137, 189, 64)\n",
      "Next shape: (114137, 189)\n"
     ]
    }
   ],
   "source": [
    "dsegs, spec1 = MNE.prepare_temporal_dset(stim_spec1, stim_resp1, nsegbins=nsegbins, thresh=0.01)"
   ]
  },
  {
   "cell_type": "code",
   "execution_count": 20,
   "metadata": {},
   "outputs": [],
   "source": [
    "### Reduce to 32 bins"
   ]
  },
  {
   "cell_type": "code",
   "execution_count": 18,
   "metadata": {},
   "outputs": [
    {
     "data": {
      "text/plain": [
       "((64, 730), (125, 730))"
      ]
     },
     "execution_count": 18,
     "metadata": {},
     "output_type": "execute_result"
    }
   ],
   "source": [
    "np.shape(stim_spec1[0]), np.shape(stim_resp1[0])"
   ]
  },
  {
   "cell_type": "code",
   "execution_count": 21,
   "metadata": {},
   "outputs": [],
   "source": [
    "stim_spec_32 = []\n",
    "for stim in stim_spec1:\n",
    "    stim_32 = MNE.kozlov_averaging(stim, n_rows=1, n_cols=0)\n",
    "    stim_spec_32.append(stim_32)"
   ]
  },
  {
   "cell_type": "code",
   "execution_count": 22,
   "metadata": {},
   "outputs": [],
   "source": [
    "nsegbins1 = 32"
   ]
  },
  {
   "cell_type": "code",
   "execution_count": 24,
   "metadata": {},
   "outputs": [
    {
     "name": "stdout",
     "output_type": "stream",
     "text": [
      "Final shape: (108570, 157, 32)\n",
      "Next shape: (108570, 157)\n"
     ]
    }
   ],
   "source": [
    "dsegs_32, spec1_32 = MNE.prepare_temporal_dset(stim_spec_32, stim_resp1, nsegbins=nsegbins1, thresh=0.01)"
   ]
  },
  {
   "cell_type": "code",
   "execution_count": 25,
   "metadata": {},
   "outputs": [],
   "source": [
    "bird = 'B1425'"
   ]
  },
  {
   "cell_type": "code",
   "execution_count": 27,
   "metadata": {},
   "outputs": [],
   "source": [
    "#spec_next_name = '/mnt/cube/srrudrar/stim_preprocess/temporal_model/{}/next_list_{}_32.pkl'.format(bird,bird)\n",
    "#with open(spec_next_name, 'wb') as f:\n",
    "#    pickle.dump(spec1_32, f)\n",
    "\n",
    "spec_segs_name = '/mnt/cube/srrudrar/stim_preprocess/temporal_model/{}/segs_list_{}_32_part1.pkl'.format(bird,bird)\n",
    "with open(spec_segs_name, 'wb') as f:\n",
    "    pickle.dump(dsegs_32[:50000,:,:], f)\n",
    "    \n",
    "spec_segs_name = '/mnt/cube/srrudrar/stim_preprocess/temporal_model/{}/segs_list_{}_32_part2.pkl'.format(bird,bird)\n",
    "with open(spec_segs_name, 'wb') as f:\n",
    "    pickle.dump(dsegs_32[50000:,:,:], f)"
   ]
  },
  {
   "cell_type": "code",
   "execution_count": null,
   "metadata": {},
   "outputs": [],
   "source": []
  },
  {
   "cell_type": "code",
   "execution_count": null,
   "metadata": {},
   "outputs": [],
   "source": []
  },
  {
   "cell_type": "code",
   "execution_count": null,
   "metadata": {},
   "outputs": [],
   "source": []
  },
  {
   "cell_type": "code",
   "execution_count": null,
   "metadata": {},
   "outputs": [],
   "source": []
  },
  {
   "cell_type": "code",
   "execution_count": 6,
   "metadata": {},
   "outputs": [],
   "source": [
    "#spec_f1 = '/mnt/cube/srrudrar/sorted/B1692/block7/stims-responses_B1692_block-7_2021-11-03.pkl'\n",
    "#with open(spec_f1, 'rb') as f:\n",
    "#    stim_resp_1 = pickle.load(f)\n",
    "    \n",
    "spec_f2 = '/mnt/cube/srrudrar/sorted/B1692/block7/stims-responses_B1692_block-7_2021-11-08.pkl'\n",
    "with open(spec_f2, 'rb') as f:\n",
    "    stim_resp_2 = pickle.load(f)"
   ]
  },
  {
   "cell_type": "code",
   "execution_count": null,
   "metadata": {},
   "outputs": [],
   "source": [
    "#print(stim_resp_2['stim_names'])"
   ]
  },
  {
   "cell_type": "code",
   "execution_count": null,
   "metadata": {},
   "outputs": [],
   "source": [
    "#np.shape(np.mean(stim_resp_2['stim_responses'][0], axis=2))"
   ]
  },
  {
   "cell_type": "code",
   "execution_count": 7,
   "metadata": {},
   "outputs": [],
   "source": [
    "stim_resp_64 = [np.mean(i, axis=2) for i in stim_resp_2['stim_responses']]\n",
    "stim_spec_64 = stim_resp_2['stim_spectrograms']"
   ]
  },
  {
   "cell_type": "code",
   "execution_count": 8,
   "metadata": {},
   "outputs": [
    {
     "data": {
      "text/plain": [
       "((64, 633), (194, 633), 61)"
      ]
     },
     "execution_count": 8,
     "metadata": {},
     "output_type": "execute_result"
    }
   ],
   "source": [
    "np.shape(stim_spec_64[0]), np.shape(stim_resp_64[0]), len(stim_spec_64)"
   ]
  },
  {
   "cell_type": "code",
   "execution_count": null,
   "metadata": {},
   "outputs": [],
   "source": [
    "np.max(stim_spec_64[0]), np.min(stim_spec_64[0])"
   ]
  },
  {
   "cell_type": "code",
   "execution_count": 9,
   "metadata": {},
   "outputs": [],
   "source": [
    "def normalize_data(data):\n",
    "    return (data - np.min(data)) / (np.max(data) - np.min(data))"
   ]
  },
  {
   "cell_type": "code",
   "execution_count": 10,
   "metadata": {},
   "outputs": [],
   "source": [
    "stim_spec_64_scaled = [normalize_data(s) for s in stim_spec_64]"
   ]
  },
  {
   "cell_type": "code",
   "execution_count": null,
   "metadata": {},
   "outputs": [],
   "source": [
    "spec_f = '/mnt/cube/srrudrar/stim_preprocess/temporal_model/B1692/stim_spec_B1692.pkl'\n",
    "with open(spec_f, 'wb') as f:\n",
    "    pickle.dump(stim_spec_64_scaled, f)\n",
    "\n",
    "resp_f = '/mnt/cube/srrudrar/stim_preprocess/temporal_model/B1692/stim_resp_B1692.pkl'\n",
    "with open(resp_f, 'wb') as f:\n",
    "    pickle.dump(stim_resp_64, f)"
   ]
  },
  {
   "cell_type": "code",
   "execution_count": null,
   "metadata": {},
   "outputs": [],
   "source": []
  },
  {
   "cell_type": "markdown",
   "metadata": {},
   "source": [
    "### reduce to 32 bins"
   ]
  },
  {
   "cell_type": "code",
   "execution_count": 11,
   "metadata": {},
   "outputs": [],
   "source": [
    "stim_spec_32 = []\n",
    "for stim in stim_spec_64_scaled:\n",
    "    stim_32 = MNE.kozlov_averaging(stim, n_rows=1, n_cols=0)\n",
    "    stim_spec_32.append(stim_32)"
   ]
  },
  {
   "cell_type": "code",
   "execution_count": 12,
   "metadata": {},
   "outputs": [
    {
     "data": {
      "text/plain": [
       "(32, 633)"
      ]
     },
     "execution_count": 12,
     "metadata": {},
     "output_type": "execute_result"
    }
   ],
   "source": [
    "np.shape(stim_spec_32[0])"
   ]
  },
  {
   "cell_type": "code",
   "execution_count": 13,
   "metadata": {},
   "outputs": [],
   "source": [
    "nsegbins1 = 32"
   ]
  },
  {
   "cell_type": "code",
   "execution_count": 15,
   "metadata": {},
   "outputs": [
    {
     "name": "stdout",
     "output_type": "stream",
     "text": [
      "Final shape: (270717, 258, 64)\n",
      "Next shape: (270717, 258)\n"
     ]
    }
   ],
   "source": [
    "dsegs_64, spec1_64 = MNE.prepare_temporal_dset(stim_spec_64_scaled, stim_resp_64, nsegbins=64, thresh=0.01)"
   ]
  },
  {
   "cell_type": "code",
   "execution_count": 14,
   "metadata": {},
   "outputs": [
    {
     "name": "stdout",
     "output_type": "stream",
     "text": [
      "Final shape: (270749, 226, 32)\n",
      "Next shape: (270749, 226)\n"
     ]
    }
   ],
   "source": [
    "dsegs_32, spec1_32 = MNE.prepare_temporal_dset(stim_spec_32, stim_resp_64, nsegbins=nsegbins1, thresh=0.01)"
   ]
  },
  {
   "cell_type": "code",
   "execution_count": null,
   "metadata": {},
   "outputs": [],
   "source": [
    "spec_segs_name1 = '/mnt/cube/srrudrar/stim_preprocess/temporal_model/B1692/segs_list_B1692_32_part1.pkl'\n",
    "with open(spec_segs_name1, 'wb') as f:\n",
    "    pickle.dump(dsegs_32[:50000,:,:], f)\n",
    "    \n",
    "spec_segs_name2 = '/mnt/cube/srrudrar/stim_preprocess/temporal_model/B1692/segs_list_B1692_32_part2.pkl'\n",
    "with open(spec_segs_name2, 'wb') as f:\n",
    "    pickle.dump(dsegs_32[50000:100000,:,:], f)\n",
    "    \n",
    "spec_segs_name3 = '/mnt/cube/srrudrar/stim_preprocess/temporal_model/B1692/segs_list_B1692_32_part3.pkl'\n",
    "with open(spec_segs_name3, 'wb') as f:\n",
    "    pickle.dump(dsegs_32[100000:150000,:,:], f)\n",
    "    \n",
    "spec_segs_name4 = '/mnt/cube/srrudrar/stim_preprocess/temporal_model/B1692/segs_list_B1692_32_part4.pkl'\n",
    "with open(spec_segs_name4, 'wb') as f:\n",
    "    pickle.dump(dsegs_32[150000:200000,:,:], f)\n",
    "    \n",
    "spec_segs_name5 = '/mnt/cube/srrudrar/stim_preprocess/temporal_model/B1692/segs_list_B1692_32_part5.pkl'\n",
    "with open(spec_segs_name5, 'wb') as f:\n",
    "    pickle.dump(dsegs_32[200000:,:,:], f)"
   ]
  },
  {
   "cell_type": "code",
   "execution_count": null,
   "metadata": {},
   "outputs": [],
   "source": [
    "spec_next_name = '/mnt/cube/srrudrar/stim_preprocess/temporal_model/B1692/next_list_B1692_32.pkl'\n",
    "with open(spec_next_name, 'wb') as f:\n",
    "    pickle.dump(spec1_32, f)"
   ]
  },
  {
   "cell_type": "code",
   "execution_count": null,
   "metadata": {},
   "outputs": [],
   "source": [
    "np.shape(dsegs_32), np.shape(spec1_32)"
   ]
  },
  {
   "cell_type": "code",
   "execution_count": null,
   "metadata": {},
   "outputs": [],
   "source": []
  },
  {
   "cell_type": "code",
   "execution_count": null,
   "metadata": {},
   "outputs": [],
   "source": []
  },
  {
   "cell_type": "code",
   "execution_count": null,
   "metadata": {},
   "outputs": [],
   "source": [
    "#dsegs_1596 = pickle.load(open('/mnt/cube/srrudrar/stim_preprocess/temporal_model/B1596/segs_list_B1596_32_part1.pkl'))\n",
    "\n",
    "segs_f1 = '/mnt/cube/srrudrar/stim_preprocess/temporal_model/B1596/segs_list_B1596_32_part1.pkl'\n",
    "with open(segs_f1, 'rb') as f:\n",
    "    dsegs_1596 = pickle.load(f)\n",
    "\n",
    "next_f = '/mnt/cube/srrudrar/stim_preprocess/temporal_model/B1596/next_list_B1596_32.pkl'\n",
    "with open(next_f, 'rb') as f:\n",
    "    spec1_1596 = pickle.load(f)"
   ]
  },
  {
   "cell_type": "code",
   "execution_count": null,
   "metadata": {},
   "outputs": [],
   "source": [
    "np.shape(dsegs_1596), np.shape(spec1_1596)"
   ]
  },
  {
   "cell_type": "code",
   "execution_count": null,
   "metadata": {},
   "outputs": [],
   "source": [
    "dsegs_1692 = dsegs_32[:, :32, :]\n",
    "next_1692 = spec1_32[:, :32]\n",
    "dsegs_1596_1 = dsegs_1596[:, :32, :]\n",
    "next_1596 = spec1_1596[:, :32]"
   ]
  },
  {
   "cell_type": "code",
   "execution_count": null,
   "metadata": {},
   "outputs": [],
   "source": [
    "np.max(dsegs_1692[0]), np.max(dsegs_1596_1[0]), np.min(dsegs_1692[0]), np.min(dsegs_1596_1[0])"
   ]
  },
  {
   "cell_type": "code",
   "execution_count": null,
   "metadata": {},
   "outputs": [],
   "source": []
  },
  {
   "cell_type": "code",
   "execution_count": null,
   "metadata": {},
   "outputs": [],
   "source": []
  },
  {
   "cell_type": "markdown",
   "metadata": {},
   "source": [
    "### Load stim_spec, stim_resp"
   ]
  },
  {
   "cell_type": "code",
   "execution_count": null,
   "metadata": {},
   "outputs": [],
   "source": [
    "spec_f = '/mnt/cube/srrudrar/stim_preprocess/temporal_model/stim_spec_B1596.pkl'\n",
    "with open(spec_f, 'wb') as f:\n",
    "    pickle.dump(stim_spec1, f)\n",
    "\n",
    "resp_f = '/mnt/cube/srrudrar/stim_preprocess/temporal_model/stim_resp_B1596.pkl'\n",
    "with open(resp_f, 'wb') as f:\n",
    "    pickle.dump(stim_resp1, f)"
   ]
  },
  {
   "cell_type": "code",
   "execution_count": null,
   "metadata": {},
   "outputs": [],
   "source": [
    "spec_f = '/mnt/cube/srrudrar/stim_preprocess/temporal_model/stim_spec_B1596.pkl'\n",
    "with open(spec_f, 'rb') as f:\n",
    "    stim_spec = pickle.load(f)\n",
    "\n",
    "resp_f = '/mnt/cube/srrudrar/stim_preprocess/temporal_model/stim_resp_B1596.pkl'\n",
    "with open(resp_f, 'rb') as f:\n",
    "    stim_resp = pickle.load(f)"
   ]
  },
  {
   "cell_type": "code",
   "execution_count": null,
   "metadata": {},
   "outputs": [],
   "source": [
    "type(stim_spec), type(stim_resp)"
   ]
  },
  {
   "cell_type": "code",
   "execution_count": null,
   "metadata": {},
   "outputs": [],
   "source": [
    "#dset_segs = MNE.prepare_AE_dset(stim_spec, stim_resp, nsegbins=nsegbins, thresh=0.01)"
   ]
  },
  {
   "cell_type": "code",
   "execution_count": null,
   "metadata": {},
   "outputs": [],
   "source": [
    "dsegs, spec1 = MNE.prepare_temporal_dset(stim_spec, stim_resp, nsegbins=nsegbins, thresh=0.01)"
   ]
  },
  {
   "cell_type": "code",
   "execution_count": null,
   "metadata": {},
   "outputs": [],
   "source": [
    "Final shape: (60429, 278, 64)\n",
    "Next shape: (60429, 278)"
   ]
  },
  {
   "cell_type": "markdown",
   "metadata": {},
   "source": [
    "### Reduce to 16 bins"
   ]
  },
  {
   "cell_type": "code",
   "execution_count": null,
   "metadata": {},
   "outputs": [],
   "source": [
    "np.shape(stim_spec[0]), np.shape(stim_resp[0])"
   ]
  },
  {
   "cell_type": "code",
   "execution_count": null,
   "metadata": {},
   "outputs": [],
   "source": [
    "stim_spec_32 = []\n",
    "for stim in stim_spec:\n",
    "    stim_32 = MNE.kozlov_averaging(stim, n_rows=1, n_cols=0)\n",
    "    stim_spec_32.append(stim_32)"
   ]
  },
  {
   "cell_type": "code",
   "execution_count": null,
   "metadata": {},
   "outputs": [],
   "source": [
    "nsegbins1 = 32"
   ]
  },
  {
   "cell_type": "code",
   "execution_count": null,
   "metadata": {},
   "outputs": [],
   "source": [
    "dsegs_32, spec1_32 = MNE.prepare_temporal_dset(stim_spec_32, stim_resp, nsegbins=nsegbins1, thresh=0.01)"
   ]
  },
  {
   "cell_type": "code",
   "execution_count": null,
   "metadata": {},
   "outputs": [],
   "source": [
    "spec_next_name = '/mnt/cube/srrudrar/stim_preprocess/temporal_model/next_list_B1596_32.pkl'\n",
    "with open(spec_next_name, 'wb') as f:\n",
    "    pickle.dump(spec1_32, f)"
   ]
  },
  {
   "cell_type": "code",
   "execution_count": null,
   "metadata": {},
   "outputs": [],
   "source": [
    "dsegs_32_part1 = dsegs_32[:50000,:,:]\n",
    "dsegs_32_part2 = dsegs_32[50000:,:,:]"
   ]
  },
  {
   "cell_type": "code",
   "execution_count": null,
   "metadata": {},
   "outputs": [],
   "source": [
    "spec_segs_name = '/mnt/cube/srrudrar/stim_preprocess/temporal_model/segs_list_B1596_32_part1.pkl'\n",
    "with open(spec_segs_name, 'wb') as f:\n",
    "    pickle.dump(dsegs_32_part1, f)"
   ]
  },
  {
   "cell_type": "code",
   "execution_count": null,
   "metadata": {},
   "outputs": [],
   "source": [
    "spec_segs_name = '/mnt/cube/srrudrar/stim_preprocess/temporal_model/segs_list_B1596_32_part2.pkl'\n",
    "with open(spec_segs_name, 'wb') as f:\n",
    "    pickle.dump(dsegs_32_part2, f)"
   ]
  },
  {
   "cell_type": "code",
   "execution_count": null,
   "metadata": {},
   "outputs": [],
   "source": []
  }
 ],
 "metadata": {
  "kernelspec": {
   "display_name": "Python 3",
   "language": "python",
   "name": "python3"
  },
  "language_info": {
   "codemirror_mode": {
    "name": "ipython",
    "version": 3
   },
   "file_extension": ".py",
   "mimetype": "text/x-python",
   "name": "python",
   "nbconvert_exporter": "python",
   "pygments_lexer": "ipython3",
   "version": "3.7.10"
  }
 },
 "nbformat": 4,
 "nbformat_minor": 2
}
