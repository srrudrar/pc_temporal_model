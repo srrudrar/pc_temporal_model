{
 "cells": [
  {
   "cell_type": "code",
   "execution_count": 1,
   "metadata": {},
   "outputs": [],
   "source": [
    "import numpy as np\n",
    "from scipy.io.wavfile import read\n",
    "import matplotlib.pyplot as plt\n",
    "from scipy import signal\n",
    "import glob\n",
    "import os\n",
    "import pickle\n",
    "%matplotlib inline\n",
    "\n",
    "from oe_acute import trial_utils as tu\n",
    "from oe_acute import MNE"
   ]
  },
  {
   "cell_type": "code",
   "execution_count": 2,
   "metadata": {},
   "outputs": [],
   "source": [
    "# PREPROCESSING STEPS\n",
    "# - Resample stimuli to 24 kHz\n",
    "# - Spectrogram: nfft=128, Hanning window len 128, 50% overlap\n",
    "# - Remove freq zero (DC) component; leaves 64 frequency bands (nfft/2)\n",
    "# - Avg freq bands pairwise twice\n",
    "# - Average time bins pairwise thrice\n",
    "# - convert to LOG SCALE!\n",
    "stimulus_wavefile = '/mnt/cube/srrudrar/METstim/3_L2_G105_s_01_@1___L6211_s_20@2.wav.sine'"
   ]
  },
  {
   "cell_type": "code",
   "execution_count": 3,
   "metadata": {},
   "outputs": [],
   "source": [
    "# preprocess all stimuli\n",
    "stim_folder = '/mnt/cube/srrudrar/experiments/MET_prediction_expt/'\n",
    "output_folder = '/mnt/cube/srrudrar/stim_preprocess/temporal_model/B1240'\n",
    "\n",
    "os.makedirs(output_folder, exist_ok=True)\n",
    "\n",
    "stim_files = glob.glob(os.path.join(stim_folder, '*.sine'))\n",
    "\n",
    "spec_next_list = []\n",
    "spec_segs_list = []"
   ]
  },
  {
   "cell_type": "code",
   "execution_count": 4,
   "metadata": {},
   "outputs": [],
   "source": [
    "for stim_file in stim_files:\n",
    "    stim_name = os.path.split(stim_file)[-1]\n",
    "    stim_name = stim_name.split('.')[0]\n",
    "    nsegbins = 16\n",
    "    nperseg = 128\n",
    "    noverlap=64\n",
    "    nfft = 128\n",
    "    \n",
    "    # Resampling ditionary\n",
    "    rsamp_dict = {44100: (80, 147), 48000: (1, 2)}\n",
    "    \n",
    "    # read wave file\n",
    "    stim_fs, stimulus_stereo = read(stim_file)\n",
    "\n",
    "    # extract signal channel\n",
    "    stimulus_data = stimulus_stereo[:, 1]\n",
    "    \n",
    "    # Resample to 24 kHz\n",
    "    up, down = rsamp_dict[stim_fs]\n",
    "    stim_resamp = signal.resample_poly(stimulus_data, up, down)\n",
    "    \n",
    "    # Spectrogram\n",
    "    f, ts, Sxx = signal.spectrogram(stim_resamp, 24000, window='hanning', nperseg=nperseg, noverlap=noverlap, nfft=nfft)\n",
    "    \n",
    "    # Remove DC and log scale\n",
    "    spec = 10*np.log10(Sxx[1:, :])\n",
    "    f = f[1:]\n",
    "\n",
    "    spec = MNE.kozlov_averaging(spec)\n",
    "    #spec1 = spec[:,20:]\n",
    "    #print(spec1.shape[-1])\n",
    "        \n",
    "    # Now extract 16 x nbins samples\n",
    "    # This list of TUPLES is of the form (sample, array(stimulus))\n",
    "    # sample is the last bin of the stimulus.  stimulus contains all bins in the nbins prior to sample\n",
    "\n",
    "    # old behavior was to include a bin index but it's not ever used\n",
    "    #segs = [(n+nsegbins, spec[:, n:(n+nsegbins)]) for n in range(len(spec.T)-nsegbins)]\n",
    "    segs = [spec[:, n:(n+nsegbins)] for n in range(len(spec.T)-nsegbins-1)]\n",
    "    spec1 = [spec[:, n+nsegbins+1] for n in range(len(spec.T)-nsegbins-1)]\n",
    "    nsegs = len(segs)\n",
    "    #print(nsegs)\n",
    "    spec_segs_list.append(segs)\n",
    "    spec_next_list.append(spec1)\n",
    "    \n",
    "    #spec_all.append(spec)"
   ]
  },
  {
   "cell_type": "code",
   "execution_count": 5,
   "metadata": {},
   "outputs": [
    {
     "data": {
      "text/plain": [
       "(2816, 2816)"
      ]
     },
     "execution_count": 5,
     "metadata": {},
     "output_type": "execute_result"
    }
   ],
   "source": [
    "len(spec_segs_list[0]), len(spec_next_list[0])"
   ]
  },
  {
   "cell_type": "code",
   "execution_count": 6,
   "metadata": {},
   "outputs": [],
   "source": [
    "spec_segs_arr = np.vstack(spec_segs_list)\n",
    "spec_next_arr = np.vstack(spec_next_list)"
   ]
  },
  {
   "cell_type": "code",
   "execution_count": 7,
   "metadata": {},
   "outputs": [
    {
     "data": {
      "text/plain": [
       "((34581, 16, 16), (34581, 16))"
      ]
     },
     "execution_count": 7,
     "metadata": {},
     "output_type": "execute_result"
    }
   ],
   "source": [
    "np.shape(spec_segs_arr), np.shape(spec_next_arr)"
   ]
  },
  {
   "cell_type": "code",
   "execution_count": null,
   "metadata": {},
   "outputs": [],
   "source": []
  },
  {
   "cell_type": "code",
   "execution_count": null,
   "metadata": {},
   "outputs": [],
   "source": []
  },
  {
   "cell_type": "code",
   "execution_count": 8,
   "metadata": {},
   "outputs": [],
   "source": [
    "spec_arr = np.hstack(spec_all)"
   ]
  },
  {
   "cell_type": "code",
   "execution_count": 10,
   "metadata": {},
   "outputs": [],
   "source": [
    "np.save('/mnt/cube/srrudrar/stim_preprocess/temporal_model/spec_arr.npy', spec_arr)"
   ]
  },
  {
   "cell_type": "code",
   "execution_count": null,
   "metadata": {},
   "outputs": [],
   "source": []
  },
  {
   "cell_type": "code",
   "execution_count": 12,
   "metadata": {},
   "outputs": [],
   "source": [
    "spec_next_name = '/mnt/cube/srrudrar/stim_preprocess/temporal_model/spec_next_list.pkl'\n",
    "with open(spec_next_name, 'wb') as f:\n",
    "    pickle.dump(spec_next_list, f)\n",
    "\n",
    "spec_segs_name = '/mnt/cube/srrudrar/stim_preprocess/temporal_model/spec_segs_list.pkl'\n",
    "with open(spec_segs_name, 'wb') as f:\n",
    "    pickle.dump(spec_segs_list, f)"
   ]
  },
  {
   "cell_type": "code",
   "execution_count": null,
   "metadata": {},
   "outputs": [],
   "source": []
  },
  {
   "cell_type": "code",
   "execution_count": null,
   "metadata": {},
   "outputs": [],
   "source": []
  },
  {
   "cell_type": "code",
   "execution_count": null,
   "metadata": {},
   "outputs": [],
   "source": []
  }
 ],
 "metadata": {
  "kernelspec": {
   "display_name": "Python 3",
   "language": "python",
   "name": "python3"
  },
  "language_info": {
   "codemirror_mode": {
    "name": "ipython",
    "version": 3
   },
   "file_extension": ".py",
   "mimetype": "text/x-python",
   "name": "python",
   "nbconvert_exporter": "python",
   "pygments_lexer": "ipython3",
   "version": "3.7.5"
  }
 },
 "nbformat": 4,
 "nbformat_minor": 2
}
