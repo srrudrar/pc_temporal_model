{
 "cells": [
  {
   "cell_type": "code",
   "execution_count": 4,
   "metadata": {},
   "outputs": [],
   "source": [
    "import os\n",
    "\n",
    "gpus = [3]\n",
    "os.environ['CUDA_VISIBLE_DEVICES']=','.join([str(i) for i in gpus])"
   ]
  },
  {
   "cell_type": "code",
   "execution_count": 5,
   "metadata": {},
   "outputs": [],
   "source": [
    "#from tensorflow.python.keras import backend\n",
    "#from tensorflow.keras import backend\n",
    "import tensorflow.keras as keras\n",
    "\n",
    "import numpy as np \n",
    "from oe_acute import MNE\n",
    "import pickle\n",
    "import sys\n",
    "import random\n",
    "#from AE import MDSAE as ae\n",
    "from network_visualisation import plot_these_aud_weights\n",
    "import network_visualisation\n",
    "import quantify_aud_strfs\n",
    "import matplotlib.pyplot as plt"
   ]
  },
  {
   "cell_type": "code",
   "execution_count": 6,
   "metadata": {},
   "outputs": [],
   "source": [
    "bird = 'B1240'\n",
    "d = 1024"
   ]
  },
  {
   "cell_type": "code",
   "execution_count": null,
   "metadata": {},
   "outputs": [],
   "source": []
  },
  {
   "cell_type": "code",
   "execution_count": 7,
   "metadata": {},
   "outputs": [],
   "source": [
    "segs_path = '/mnt/cube/srrudrar/stim_preprocess/temporal_model/{}/segs_list_32.pkl'.format(bird, bird)     ###change\n",
    "next_path = '/mnt/cube/srrudrar/stim_preprocess/temporal_model/{}/next_list_32.pkl'.format(bird, bird)            ###change"
   ]
  },
  {
   "cell_type": "code",
   "execution_count": 8,
   "metadata": {},
   "outputs": [],
   "source": [
    "def extract_spec_data(x_path, y_path, random_seed=None, global_normalize=False):\n",
    "\n",
    "    all_curr=np.load(x_path,allow_pickle=True)\n",
    "    all_next=np.load(y_path,allow_pickle=True)\n",
    "\n",
    "    x_array = all_curr\n",
    "    y_array = all_next\n",
    "\n",
    "    if random_seed is None:\n",
    "        rand_idx=np.arange(0, np.shape(x_array)[0])\n",
    "    else:\n",
    "        np.random.seed(random_seed)\n",
    "        rand_idx=np.random.choice(range(np.shape(x_array)[0]), size=np.shape(x_array)[0],replace=False)\n",
    "    \n",
    "    split_train_idx, split_val_idx = rand_idx[np.shape(x_array)[0]//10:],rand_idx[:np.shape(x_array)[0]//10] \n",
    "    x_train, x_val=np.asarray(x_array)[split_train_idx], np.asarray(x_array)[split_val_idx]\n",
    "    y_train, y_val=np.asarray(y_array)[split_train_idx],np.asarray(y_array)[split_val_idx]\n",
    "    \n",
    "    #if global_normalize:\n",
    "    #    x_train=x_train/x_train.max()\n",
    "    #    y_train=y_train/y_train.max()\n",
    "    #    x_val=x_val/x_val.max()\n",
    "    #    y_val=y_val/y_val.max()\n",
    "    return x_train,y_train,x_val,y_val"
   ]
  },
  {
   "cell_type": "code",
   "execution_count": 9,
   "metadata": {},
   "outputs": [],
   "source": [
    "x_train1,y_train1,x_val1,y_val1 = extract_spec_data(segs_path, next_path, random_seed=0,global_normalize=True)"
   ]
  },
  {
   "cell_type": "code",
   "execution_count": 10,
   "metadata": {},
   "outputs": [],
   "source": [
    "x_train0 = x_train1[:, :32, :]\n",
    "x_val0 = x_val1[:, :32, :]\n",
    "y_train0 = y_train1[:, :32]\n",
    "y_val0 = y_val1[:, :32]"
   ]
  },
  {
   "cell_type": "code",
   "execution_count": 11,
   "metadata": {},
   "outputs": [],
   "source": [
    "x_train = np.asarray([s.flatten() for s in x_train0])\n",
    "x_val = np.asarray([s.flatten() for s in x_val0])"
   ]
  },
  {
   "cell_type": "code",
   "execution_count": 12,
   "metadata": {},
   "outputs": [
    {
     "data": {
      "text/plain": [
       "((51357, 1024), (5706, 1024))"
      ]
     },
     "execution_count": 12,
     "metadata": {},
     "output_type": "execute_result"
    }
   ],
   "source": [
    "np.shape(x_train), np.shape(x_val)"
   ]
  },
  {
   "cell_type": "code",
   "execution_count": null,
   "metadata": {},
   "outputs": [],
   "source": []
  },
  {
   "cell_type": "code",
   "execution_count": null,
   "metadata": {},
   "outputs": [],
   "source": []
  },
  {
   "cell_type": "code",
   "execution_count": 13,
   "metadata": {},
   "outputs": [],
   "source": [
    "input_img = keras.Input(shape=(1024,))\n",
    "encoded = keras.layers.Dense(d, activation='relu')(input_img)\n",
    "decoded = keras.layers.Dense(1024, activation='sigmoid')(encoded)\n",
    "\n",
    "# This model maps an input to its reconstruction\n",
    "autoencoder = keras.Model(input_img, decoded)"
   ]
  },
  {
   "cell_type": "code",
   "execution_count": 14,
   "metadata": {},
   "outputs": [],
   "source": [
    "encoder = keras.Model(input_img, encoded)"
   ]
  },
  {
   "cell_type": "code",
   "execution_count": 15,
   "metadata": {},
   "outputs": [],
   "source": [
    "# This is our encoded (32-dimensional) input\n",
    "encoded_input = keras.Input(shape=(d,))\n",
    "# Retrieve the last layer of the autoencoder model\n",
    "decoder_layer = autoencoder.layers[-1]\n",
    "# Create the decoder model\n",
    "decoder = keras.Model(encoded_input, decoder_layer(encoded_input))"
   ]
  },
  {
   "cell_type": "code",
   "execution_count": 16,
   "metadata": {},
   "outputs": [],
   "source": [
    "autoencoder.compile(optimizer='adam', loss='binary_crossentropy')"
   ]
  },
  {
   "cell_type": "code",
   "execution_count": null,
   "metadata": {},
   "outputs": [],
   "source": []
  },
  {
   "cell_type": "code",
   "execution_count": 17,
   "metadata": {},
   "outputs": [
    {
     "name": "stdout",
     "output_type": "stream",
     "text": [
      "Epoch 1/50\n",
      "201/201 [==============================] - 4s 13ms/step - loss: 0.4072 - val_loss: 0.2728\n",
      "Epoch 2/50\n",
      "201/201 [==============================] - 1s 7ms/step - loss: 0.2662 - val_loss: 0.2587\n",
      "Epoch 3/50\n",
      "201/201 [==============================] - 1s 7ms/step - loss: 0.2537 - val_loss: 0.2510\n",
      "Epoch 4/50\n",
      "201/201 [==============================] - 1s 7ms/step - loss: 0.2473 - val_loss: 0.2468\n",
      "Epoch 5/50\n",
      "201/201 [==============================] - 1s 7ms/step - loss: 0.2436 - val_loss: 0.2447\n",
      "Epoch 6/50\n",
      "201/201 [==============================] - 1s 7ms/step - loss: 0.2425 - val_loss: 0.2425\n",
      "Epoch 7/50\n",
      "201/201 [==============================] - 1s 7ms/step - loss: 0.2393 - val_loss: 0.2409\n",
      "Epoch 8/50\n",
      "201/201 [==============================] - 1s 7ms/step - loss: 0.2387 - val_loss: 0.2397\n",
      "Epoch 9/50\n",
      "201/201 [==============================] - 1s 7ms/step - loss: 0.2374 - val_loss: 0.2388\n",
      "Epoch 10/50\n",
      "201/201 [==============================] - 2s 7ms/step - loss: 0.2365 - val_loss: 0.2374\n",
      "Epoch 11/50\n",
      "201/201 [==============================] - 1s 7ms/step - loss: 0.2352 - val_loss: 0.2365\n",
      "Epoch 12/50\n",
      "201/201 [==============================] - 2s 8ms/step - loss: 0.2338 - val_loss: 0.2360\n",
      "Epoch 13/50\n",
      "201/201 [==============================] - 1s 7ms/step - loss: 0.2331 - val_loss: 0.2352\n",
      "Epoch 14/50\n",
      "201/201 [==============================] - 1s 7ms/step - loss: 0.2325 - val_loss: 0.2347\n",
      "Epoch 15/50\n",
      "201/201 [==============================] - 1s 7ms/step - loss: 0.2326 - val_loss: 0.2341\n",
      "Epoch 16/50\n",
      "201/201 [==============================] - 1s 7ms/step - loss: 0.2321 - val_loss: 0.2338\n",
      "Epoch 17/50\n",
      "201/201 [==============================] - 1s 7ms/step - loss: 0.2309 - val_loss: 0.2340\n",
      "Epoch 18/50\n",
      "201/201 [==============================] - 1s 7ms/step - loss: 0.2311 - val_loss: 0.2328\n",
      "Epoch 19/50\n",
      "201/201 [==============================] - 1s 7ms/step - loss: 0.2302 - val_loss: 0.2325\n",
      "Epoch 20/50\n",
      "201/201 [==============================] - 1s 7ms/step - loss: 0.2293 - val_loss: 0.2321\n",
      "Epoch 21/50\n",
      "201/201 [==============================] - 1s 7ms/step - loss: 0.2281 - val_loss: 0.2318\n",
      "Epoch 22/50\n",
      "201/201 [==============================] - 1s 7ms/step - loss: 0.2287 - val_loss: 0.2316\n",
      "Epoch 23/50\n",
      "201/201 [==============================] - 2s 8ms/step - loss: 0.2289 - val_loss: 0.2318\n",
      "Epoch 24/50\n",
      "201/201 [==============================] - 1s 7ms/step - loss: 0.2293 - val_loss: 0.2310\n",
      "Epoch 25/50\n",
      "201/201 [==============================] - 1s 7ms/step - loss: 0.2283 - val_loss: 0.2307\n",
      "Epoch 26/50\n",
      "201/201 [==============================] - 1s 7ms/step - loss: 0.2291 - val_loss: 0.2309\n",
      "Epoch 27/50\n",
      "201/201 [==============================] - 2s 8ms/step - loss: 0.2276 - val_loss: 0.2303\n",
      "Epoch 28/50\n",
      "201/201 [==============================] - 1s 7ms/step - loss: 0.2274 - val_loss: 0.2301\n",
      "Epoch 29/50\n",
      "201/201 [==============================] - 2s 8ms/step - loss: 0.2273 - val_loss: 0.2300\n",
      "Epoch 30/50\n",
      "201/201 [==============================] - 1s 7ms/step - loss: 0.2282 - val_loss: 0.2297\n",
      "Epoch 31/50\n",
      "201/201 [==============================] - 1s 7ms/step - loss: 0.2271 - val_loss: 0.2296\n",
      "Epoch 32/50\n",
      "201/201 [==============================] - 1s 7ms/step - loss: 0.2271 - val_loss: 0.2294\n",
      "Epoch 33/50\n",
      "201/201 [==============================] - 2s 7ms/step - loss: 0.2272 - val_loss: 0.2296\n",
      "Epoch 34/50\n",
      "201/201 [==============================] - 1s 7ms/step - loss: 0.2272 - val_loss: 0.2297\n",
      "Epoch 35/50\n",
      "201/201 [==============================] - 2s 8ms/step - loss: 0.2264 - val_loss: 0.2291\n",
      "Epoch 36/50\n",
      "201/201 [==============================] - 1s 7ms/step - loss: 0.2263 - val_loss: 0.2289\n",
      "Epoch 37/50\n",
      "201/201 [==============================] - 1s 7ms/step - loss: 0.2272 - val_loss: 0.2288\n",
      "Epoch 38/50\n",
      "201/201 [==============================] - 1s 7ms/step - loss: 0.2257 - val_loss: 0.2290\n",
      "Epoch 39/50\n",
      "201/201 [==============================] - 1s 7ms/step - loss: 0.2262 - val_loss: 0.2285\n",
      "Epoch 40/50\n",
      "201/201 [==============================] - 1s 7ms/step - loss: 0.2255 - val_loss: 0.2285\n",
      "Epoch 41/50\n",
      "201/201 [==============================] - 1s 7ms/step - loss: 0.2261 - val_loss: 0.2290\n",
      "Epoch 42/50\n",
      "201/201 [==============================] - 1s 7ms/step - loss: 0.2265 - val_loss: 0.2283\n",
      "Epoch 43/50\n",
      "201/201 [==============================] - 1s 7ms/step - loss: 0.2257 - val_loss: 0.2290\n",
      "Epoch 44/50\n",
      "201/201 [==============================] - 1s 7ms/step - loss: 0.2264 - val_loss: 0.2281\n",
      "Epoch 45/50\n",
      "201/201 [==============================] - 1s 7ms/step - loss: 0.2257 - val_loss: 0.2281\n",
      "Epoch 46/50\n",
      "201/201 [==============================] - 1s 7ms/step - loss: 0.2258 - val_loss: 0.2280\n",
      "Epoch 47/50\n",
      "201/201 [==============================] - 1s 7ms/step - loss: 0.2252 - val_loss: 0.2279\n",
      "Epoch 48/50\n",
      "201/201 [==============================] - 2s 8ms/step - loss: 0.2253 - val_loss: 0.2279\n",
      "Epoch 49/50\n",
      "201/201 [==============================] - 1s 7ms/step - loss: 0.2255 - val_loss: 0.2277\n",
      "Epoch 50/50\n",
      "201/201 [==============================] - 1s 7ms/step - loss: 0.2254 - val_loss: 0.2277\n"
     ]
    },
    {
     "data": {
      "text/plain": [
       "<tensorflow.python.keras.callbacks.History at 0x7fd77faa24d0>"
      ]
     },
     "execution_count": 17,
     "metadata": {},
     "output_type": "execute_result"
    }
   ],
   "source": [
    "autoencoder.fit(x_train, x_train,\n",
    "                epochs=50,\n",
    "                batch_size=256,\n",
    "                shuffle=True,\n",
    "                validation_data=(x_val, x_val))"
   ]
  },
  {
   "cell_type": "code",
   "execution_count": 18,
   "metadata": {},
   "outputs": [],
   "source": [
    "encoded_imgs = encoder.predict(x_val)\n",
    "decoded_imgs = decoder.predict(encoded_imgs)"
   ]
  },
  {
   "cell_type": "code",
   "execution_count": 19,
   "metadata": {},
   "outputs": [
    {
     "data": {
      "image/png": "[encoded data removed]",
      "text/plain": [
       "<Figure size 1440x288 with 20 Axes>"
      ]
     },
     "metadata": {
      "needs_background": "light"
     },
     "output_type": "display_data"
    }
   ],
   "source": [
    "n = 10  # How many digits we will display\n",
    "plt.figure(figsize=(20, 4))\n",
    "for i in range(n):\n",
    "    # Display original\n",
    "    ax = plt.subplot(2, n, i + 1)\n",
    "    plt.imshow(x_val[i].reshape(32, 32))\n",
    "    plt.gray()\n",
    "    ax.get_xaxis().set_visible(False)\n",
    "    ax.get_yaxis().set_visible(False)\n",
    "\n",
    "    # Display reconstruction\n",
    "    ax = plt.subplot(2, n, i + 1 + n)\n",
    "    plt.imshow(decoded_imgs[i].reshape(32, 32))\n",
    "    plt.gray()\n",
    "    ax.get_xaxis().set_visible(False)\n",
    "    ax.get_yaxis().set_visible(False)\n",
    "plt.show()"
   ]
  },
  {
   "cell_type": "code",
   "execution_count": 20,
   "metadata": {},
   "outputs": [
    {
     "data": {
      "text/plain": [
       "(5706, 1024)"
      ]
     },
     "execution_count": 20,
     "metadata": {},
     "output_type": "execute_result"
    }
   ],
   "source": [
    "np.shape(encoded_imgs)"
   ]
  },
  {
   "cell_type": "code",
   "execution_count": 21,
   "metadata": {},
   "outputs": [],
   "source": [
    "resp_train = x_train1[:, 32:, :]\n",
    "resp_test = x_val1[:, 32:, :]"
   ]
  },
  {
   "cell_type": "code",
   "execution_count": 22,
   "metadata": {},
   "outputs": [],
   "source": [
    "np.save('/mnt/cube/srrudrar/ae_model/{}/32x32/stim_resp_32x32_{}/enc_test_{}.npy'.format(bird,d,d), encoded_imgs)\n",
    "np.save('/mnt/cube/srrudrar/ae_model/{}/32x32/stim_resp_32x32_{}/resp_test_{}.npy'.format(bird,d,d), resp_test)"
   ]
  },
  {
   "cell_type": "code",
   "execution_count": null,
   "metadata": {},
   "outputs": [],
   "source": []
  }
 ],
 "metadata": {
  "kernelspec": {
   "display_name": "Python 3",
   "language": "python",
   "name": "python3"
  },
  "language_info": {
   "codemirror_mode": {
    "name": "ipython",
    "version": 3
   },
   "file_extension": ".py",
   "mimetype": "text/x-python",
   "name": "python",
   "nbconvert_exporter": "python",
   "pygments_lexer": "ipython3",
   "version": "3.7.5"
  }
 },
 "nbformat": 4,
 "nbformat_minor": 2
}
