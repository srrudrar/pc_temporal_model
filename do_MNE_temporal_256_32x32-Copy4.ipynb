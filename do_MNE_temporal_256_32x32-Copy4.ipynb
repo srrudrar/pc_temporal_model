{
 "cells": [
  {
   "cell_type": "code",
   "execution_count": 1,
   "metadata": {},
   "outputs": [],
   "source": [
    "import numpy as np\n",
    "import os\n",
    "from oe_acute import trial_utils as tu\n",
    "from oe_acute import MNE\n",
    "import matplotlib.pyplot as plt\n",
    "import matplotlib.cm as cm\n",
    "import pickle\n",
    "import tqdm\n",
    "import glob\n",
    "\n",
    "import sys\n",
    "from oe_acute import pyMNE"
   ]
  },
  {
   "cell_type": "code",
   "execution_count": 2,
   "metadata": {},
   "outputs": [
    {
     "data": {
      "text/plain": [
       "1"
      ]
     },
     "execution_count": 2,
     "metadata": {},
     "output_type": "execute_result"
    }
   ],
   "source": [
    "os.nice(1)"
   ]
  },
  {
   "cell_type": "code",
   "execution_count": 3,
   "metadata": {},
   "outputs": [],
   "source": [
    "bird = 'B1692'\n",
    "d = 512"
   ]
  },
  {
   "cell_type": "code",
   "execution_count": 4,
   "metadata": {},
   "outputs": [],
   "source": [
    "#ratings = [1,2,3]\n",
    "#ratings_str = ''.join([str(x) for x in ratings])"
   ]
  },
  {
   "cell_type": "code",
   "execution_count": 5,
   "metadata": {},
   "outputs": [],
   "source": [
    "#sort_path =  '/mnt/cube/srrudrar/sorted/B1596/block4/continuous/Rhythm_FPGA-100.0/'#\n",
    "#\n",
    "#clusters = []\n",
    "#for rating in ratings:\n",
    "#    x = tu.get_clusters_by_rating(sort_path, rating)\n",
    "#    clusters.extend(x)\n",
    "#\n",
    "#n_cells = len(clusters)"
   ]
  },
  {
   "cell_type": "code",
   "execution_count": 6,
   "metadata": {},
   "outputs": [],
   "source": [
    "#np.save('/mnt/cube/srrudrar/temporal_model/units_to_process_B1596.npy',clusters)"
   ]
  },
  {
   "cell_type": "markdown",
   "metadata": {},
   "source": [
    "### Load dsets"
   ]
  },
  {
   "cell_type": "code",
   "execution_count": 9,
   "metadata": {},
   "outputs": [],
   "source": [
    "stim_spec = np.load('/mnt/cube/srrudrar/temporal_model/{}/32x32/stim_resp_32x32_{}/enc_test_{}.npy'.format(bird,d,d)) ###change\n",
    "stim_resp = np.load('/mnt/cube/srrudrar/temporal_model/{}/32x32/stim_resp_32x32_{}/resp_test_{}.npy'.format(bird,d,d))###change"
   ]
  },
  {
   "cell_type": "code",
   "execution_count": 10,
   "metadata": {},
   "outputs": [
    {
     "data": {
      "text/plain": [
       "((27074, 512), (27074, 194, 32))"
      ]
     },
     "execution_count": 10,
     "metadata": {},
     "output_type": "execute_result"
    }
   ],
   "source": [
    "np.shape(stim_spec), np.shape(stim_resp)"
   ]
  },
  {
   "cell_type": "code",
   "execution_count": 11,
   "metadata": {},
   "outputs": [],
   "source": [
    "def prepare_MNE_dset(stim_spec, stim_resp, nsegbins=32, concat=True):\n",
    "    '''\n",
    "    Create the dataset for fitting MNE model\n",
    "    '''\n",
    "    stim_mne = []\n",
    "    resp_mne = []\n",
    "    for s, r in zip(stim_spec, stim_resp):\n",
    "        #nfreq, ntime = s.shape\n",
    "        #s_segs = np.stack([s[:, n:(n+nsegbins)] for n in range(ntime - nsegbins)], axis=0)\n",
    "        s_segs = s\n",
    "        r_segs = np.sum(r, axis=1)\n",
    "        stim_mne.append(s_segs)\n",
    "        resp_mne.append(r_segs)\n",
    "    if concat:\n",
    "        return np.vstack(stim_mne), np.vstack(resp_mne)\n",
    "    else:\n",
    "        return stim_mne, resp_mne"
   ]
  },
  {
   "cell_type": "code",
   "execution_count": 12,
   "metadata": {},
   "outputs": [],
   "source": [
    "nsegbins = 32"
   ]
  },
  {
   "cell_type": "code",
   "execution_count": 13,
   "metadata": {},
   "outputs": [],
   "source": [
    "stim_mne = []\n",
    "resp_mne = []\n",
    "stim_mne, resp_mne = prepare_MNE_dset(stim_spec, stim_resp, nsegbins=nsegbins)"
   ]
  },
  {
   "cell_type": "code",
   "execution_count": 14,
   "metadata": {},
   "outputs": [
    {
     "data": {
      "text/plain": [
       "((27074, 512), (27074, 194))"
      ]
     },
     "execution_count": 14,
     "metadata": {},
     "output_type": "execute_result"
    }
   ],
   "source": [
    "np.shape(stim_mne), np.shape(resp_mne)"
   ]
  },
  {
   "cell_type": "code",
   "execution_count": 15,
   "metadata": {},
   "outputs": [
    {
     "data": {
      "text/plain": [
       "<matplotlib.image.AxesImage at 0x7fccd07d7a10>"
      ]
     },
     "execution_count": 15,
     "metadata": {},
     "output_type": "execute_result"
    },
    {
     "data": {
      "image/png": "[encoded data removed]",
      "text/plain": [
       "<Figure size 1440x576 with 1 Axes>"
      ]
     },
     "metadata": {
      "needs_background": "light"
     },
     "output_type": "display_data"
    }
   ],
   "source": [
    "ax = plt.subplots(figsize=(20,8))\n",
    "plt.imshow(np.transpose(stim_resp[:100, 20, :]), origin='lower', cmap='gray')"
   ]
  },
  {
   "cell_type": "markdown",
   "metadata": {},
   "source": [
    "### Split into train test sets"
   ]
  },
  {
   "cell_type": "code",
   "execution_count": 16,
   "metadata": {},
   "outputs": [],
   "source": [
    "len_units = np.shape(resp_mne)[1]"
   ]
  },
  {
   "cell_type": "code",
   "execution_count": 18,
   "metadata": {},
   "outputs": [],
   "source": [
    "units_to_process = list(np.load('/mnt/cube/srrudrar/temporal_model/units_to_process_{}.npy'.format(bird)))        ###change"
   ]
  },
  {
   "cell_type": "code",
   "execution_count": 19,
   "metadata": {},
   "outputs": [],
   "source": [
    "exp_path = '/mnt/cube/srrudrar/temporal_model/{}/32x32/stim_resp_32x32_{}/test_set_mne/'.format(bird,d)           ###change"
   ]
  },
  {
   "cell_type": "code",
   "execution_count": null,
   "metadata": {},
   "outputs": [
    {
     "name": "stdout",
     "output_type": "stream",
     "text": [
      "Iters   tally   ll(test) \n"
     ]
    },
    {
     "name": "stderr",
     "output_type": "stream",
     "text": [
      "/home/srrudrar/temporal_model/oe_acute/pyMNE.py:48: RuntimeWarning: overflow encountered in exp\n",
      "  pSpike = 1.0 / (1.0 + np.exp(a + stim.dot(h) + (np.sum(stim * (stim.dot(J)),1))))\n",
      "/home/srrudrar/temporal_model/oe_acute/pyMNE.py:22: RuntimeWarning: overflow encountered in exp\n",
      "  f1 = 1 + np.exp( a + stim.dot(h) + (np.sum(stim * (stim.dot(J)),1)))\n",
      "/home/srrudrar/temporal_model/oe_acute/pyMNE.py:25: RuntimeWarning: invalid value encountered in multiply\n",
      "  F1 = resp * np.log(f1)\n",
      "/home/srrudrar/temporal_model/oe_acute/pyMNE.py:22: RuntimeWarning: overflow encountered in exp\n",
      "  f1 = 1 + np.exp( a + stim.dot(h) + (np.sum(stim * (stim.dot(J)),1)))\n",
      "/home/srrudrar/temporal_model/oe_acute/pyMNE.py:25: RuntimeWarning: invalid value encountered in multiply\n",
      "  F1 = resp * np.log(f1)\n",
      "/home/srrudrar/temporal_model/oe_acute/pyMNE.py:48: RuntimeWarning: overflow encountered in exp\n",
      "  pSpike = 1.0 / (1.0 + np.exp(a + stim.dot(h) + (np.sum(stim * (stim.dot(J)),1))))\n",
      "/home/srrudrar/temporal_model/oe_acute/pyMNE.py:22: RuntimeWarning: overflow encountered in exp\n",
      "  f1 = 1 + np.exp( a + stim.dot(h) + (np.sum(stim * (stim.dot(J)),1)))\n",
      "/home/srrudrar/temporal_model/oe_acute/pyMNE.py:25: RuntimeWarning: invalid value encountered in multiply\n",
      "  F1 = resp * np.log(f1)\n"
     ]
    },
    {
     "name": "stdout",
     "output_type": "stream",
     "text": [
      "    1       0    inf\n"
     ]
    },
    {
     "name": "stderr",
     "output_type": "stream",
     "text": [
      "/home/srrudrar/temporal_model/oe_acute/pyMNE.py:23: RuntimeWarning: overflow encountered in exp\n",
      "  f0 = 1 + np.exp(-a - stim.dot(h) - (np.sum(stim * (stim.dot(J)),1)))\n",
      "/home/srrudrar/temporal_model/oe_acute/pyMNE.py:48: RuntimeWarning: overflow encountered in exp\n",
      "  pSpike = 1.0 / (1.0 + np.exp(a + stim.dot(h) + (np.sum(stim * (stim.dot(J)),1))))\n",
      "/home/srrudrar/temporal_model/oe_acute/pyMNE.py:22: RuntimeWarning: overflow encountered in exp\n",
      "  f1 = 1 + np.exp( a + stim.dot(h) + (np.sum(stim * (stim.dot(J)),1)))\n",
      "/home/srrudrar/temporal_model/oe_acute/pyMNE.py:23: RuntimeWarning: overflow encountered in exp\n",
      "  f0 = 1 + np.exp(-a - stim.dot(h) - (np.sum(stim * (stim.dot(J)),1)))\n",
      "/home/srrudrar/temporal_model/oe_acute/pyMNE.py:25: RuntimeWarning: invalid value encountered in multiply\n",
      "  F1 = resp * np.log(f1)\n",
      "/home/srrudrar/temporal_model/oe_acute/pyMNE.py:48: RuntimeWarning: overflow encountered in exp\n",
      "  pSpike = 1.0 / (1.0 + np.exp(a + stim.dot(h) + (np.sum(stim * (stim.dot(J)),1))))\n",
      "/home/srrudrar/temporal_model/oe_acute/pyMNE.py:22: RuntimeWarning: overflow encountered in exp\n",
      "  f1 = 1 + np.exp( a + stim.dot(h) + (np.sum(stim * (stim.dot(J)),1)))\n",
      "/home/srrudrar/temporal_model/oe_acute/pyMNE.py:25: RuntimeWarning: invalid value encountered in multiply\n",
      "  F1 = resp * np.log(f1)\n"
     ]
    },
    {
     "name": "stdout",
     "output_type": "stream",
     "text": [
      "    2       0    0.175315\n"
     ]
    },
    {
     "name": "stderr",
     "output_type": "stream",
     "text": [
      "/home/srrudrar/temporal_model/oe_acute/pyMNE.py:48: RuntimeWarning: overflow encountered in exp\n",
      "  pSpike = 1.0 / (1.0 + np.exp(a + stim.dot(h) + (np.sum(stim * (stim.dot(J)),1))))\n"
     ]
    },
    {
     "name": "stdout",
     "output_type": "stream",
     "text": [
      "    3       0    0.175474\n",
      "    4       1    0.171935\n",
      "    5       0    0.172035\n",
      "    6       1    0.173248\n",
      "    7       2    0.173054\n",
      "    8       3    0.172239\n",
      "    9       4    0.172507\n",
      "   10       5    0.172315\n",
      "   11       6    0.173011\n",
      "   12       7    0.173184\n",
      "   13       8    0.172998\n",
      "   14       9    0.172879\n",
      "minimum of test set found\n",
      "Iters   tally   ll(test) \n"
     ]
    },
    {
     "name": "stderr",
     "output_type": "stream",
     "text": [
      "/home/srrudrar/temporal_model/oe_acute/pyMNE.py:22: RuntimeWarning: overflow encountered in exp\n",
      "  f1 = 1 + np.exp( a + stim.dot(h) + (np.sum(stim * (stim.dot(J)),1)))\n",
      "/home/srrudrar/temporal_model/oe_acute/pyMNE.py:25: RuntimeWarning: invalid value encountered in multiply\n",
      "  F1 = resp * np.log(f1)\n",
      "/home/srrudrar/temporal_model/oe_acute/pyMNE.py:48: RuntimeWarning: overflow encountered in exp\n",
      "  pSpike = 1.0 / (1.0 + np.exp(a + stim.dot(h) + (np.sum(stim * (stim.dot(J)),1))))\n",
      "/home/srrudrar/temporal_model/oe_acute/pyMNE.py:22: RuntimeWarning: overflow encountered in exp\n",
      "  f1 = 1 + np.exp( a + stim.dot(h) + (np.sum(stim * (stim.dot(J)),1)))\n",
      "/home/srrudrar/temporal_model/oe_acute/pyMNE.py:25: RuntimeWarning: invalid value encountered in multiply\n",
      "  F1 = resp * np.log(f1)\n"
     ]
    },
    {
     "name": "stdout",
     "output_type": "stream",
     "text": [
      "    1       0    0.156823\n"
     ]
    },
    {
     "name": "stderr",
     "output_type": "stream",
     "text": [
      "/home/srrudrar/temporal_model/oe_acute/pyMNE.py:23: RuntimeWarning: overflow encountered in exp\n",
      "  f0 = 1 + np.exp(-a - stim.dot(h) - (np.sum(stim * (stim.dot(J)),1)))\n",
      "/home/srrudrar/temporal_model/oe_acute/pyMNE.py:48: RuntimeWarning: overflow encountered in exp\n",
      "  pSpike = 1.0 / (1.0 + np.exp(a + stim.dot(h) + (np.sum(stim * (stim.dot(J)),1))))\n",
      "/home/srrudrar/temporal_model/oe_acute/pyMNE.py:22: RuntimeWarning: overflow encountered in exp\n",
      "  f1 = 1 + np.exp( a + stim.dot(h) + (np.sum(stim * (stim.dot(J)),1)))\n",
      "/home/srrudrar/temporal_model/oe_acute/pyMNE.py:23: RuntimeWarning: overflow encountered in exp\n",
      "  f0 = 1 + np.exp(-a - stim.dot(h) - (np.sum(stim * (stim.dot(J)),1)))\n",
      "/home/srrudrar/temporal_model/oe_acute/pyMNE.py:25: RuntimeWarning: invalid value encountered in multiply\n",
      "  F1 = resp * np.log(f1)\n",
      "/home/srrudrar/temporal_model/oe_acute/pyMNE.py:48: RuntimeWarning: overflow encountered in exp\n",
      "  pSpike = 1.0 / (1.0 + np.exp(a + stim.dot(h) + (np.sum(stim * (stim.dot(J)),1))))\n",
      "/home/srrudrar/temporal_model/oe_acute/pyMNE.py:22: RuntimeWarning: overflow encountered in exp\n",
      "  f1 = 1 + np.exp( a + stim.dot(h) + (np.sum(stim * (stim.dot(J)),1)))\n",
      "/home/srrudrar/temporal_model/oe_acute/pyMNE.py:25: RuntimeWarning: invalid value encountered in multiply\n",
      "  F1 = resp * np.log(f1)\n"
     ]
    },
    {
     "name": "stdout",
     "output_type": "stream",
     "text": [
      "    2       0    0.153044\n"
     ]
    },
    {
     "name": "stderr",
     "output_type": "stream",
     "text": [
      "/home/srrudrar/temporal_model/oe_acute/pyMNE.py:23: RuntimeWarning: overflow encountered in exp\n",
      "  f0 = 1 + np.exp(-a - stim.dot(h) - (np.sum(stim * (stim.dot(J)),1)))\n",
      "/home/srrudrar/temporal_model/oe_acute/pyMNE.py:48: RuntimeWarning: overflow encountered in exp\n",
      "  pSpike = 1.0 / (1.0 + np.exp(a + stim.dot(h) + (np.sum(stim * (stim.dot(J)),1))))\n",
      "/home/srrudrar/temporal_model/oe_acute/pyMNE.py:22: RuntimeWarning: overflow encountered in exp\n",
      "  f1 = 1 + np.exp( a + stim.dot(h) + (np.sum(stim * (stim.dot(J)),1)))\n",
      "/home/srrudrar/temporal_model/oe_acute/pyMNE.py:23: RuntimeWarning: overflow encountered in exp\n",
      "  f0 = 1 + np.exp(-a - stim.dot(h) - (np.sum(stim * (stim.dot(J)),1)))\n",
      "/home/srrudrar/temporal_model/oe_acute/pyMNE.py:25: RuntimeWarning: invalid value encountered in multiply\n",
      "  F1 = resp * np.log(f1)\n",
      "/home/srrudrar/temporal_model/oe_acute/pyMNE.py:48: RuntimeWarning: overflow encountered in exp\n",
      "  pSpike = 1.0 / (1.0 + np.exp(a + stim.dot(h) + (np.sum(stim * (stim.dot(J)),1))))\n",
      "/home/srrudrar/temporal_model/oe_acute/pyMNE.py:22: RuntimeWarning: overflow encountered in exp\n",
      "  f1 = 1 + np.exp( a + stim.dot(h) + (np.sum(stim * (stim.dot(J)),1)))\n",
      "/home/srrudrar/temporal_model/oe_acute/pyMNE.py:25: RuntimeWarning: invalid value encountered in multiply\n",
      "  F1 = resp * np.log(f1)\n"
     ]
    },
    {
     "name": "stdout",
     "output_type": "stream",
     "text": [
      "    3       0    0.153102\n"
     ]
    },
    {
     "name": "stderr",
     "output_type": "stream",
     "text": [
      "/home/srrudrar/temporal_model/oe_acute/pyMNE.py:48: RuntimeWarning: overflow encountered in exp\n",
      "  pSpike = 1.0 / (1.0 + np.exp(a + stim.dot(h) + (np.sum(stim * (stim.dot(J)),1))))\n"
     ]
    },
    {
     "name": "stdout",
     "output_type": "stream",
     "text": [
      "    4       1    0.152789\n",
      "    5       0    0.152975\n",
      "    6       1    0.152794\n",
      "    7       2    0.152810\n",
      "    8       3    0.152819\n",
      "    9       4    0.152640\n",
      "   10       0    0.152594\n",
      "   11       0    0.152601\n",
      "   12       1    0.152508\n",
      "   13       0    0.152341\n",
      "   14       0    0.152162\n",
      "   15       0    0.152356\n",
      "   16       1    0.152460\n",
      "   17       2    0.152480\n",
      "   18       3    0.152410\n",
      "   19       4    0.152354\n",
      "   20       5    0.152305\n",
      "   21       6    0.152243\n",
      "   22       7    0.152281\n",
      "   23       8    0.152329\n",
      "   24       9    0.152336\n",
      "minimum of test set found\n",
      "Iters   tally   ll(test) \n"
     ]
    },
    {
     "name": "stderr",
     "output_type": "stream",
     "text": [
      "/home/srrudrar/temporal_model/oe_acute/pyMNE.py:22: RuntimeWarning: overflow encountered in exp\n",
      "  f1 = 1 + np.exp( a + stim.dot(h) + (np.sum(stim * (stim.dot(J)),1)))\n",
      "/home/srrudrar/temporal_model/oe_acute/pyMNE.py:25: RuntimeWarning: invalid value encountered in multiply\n",
      "  F1 = resp * np.log(f1)\n",
      "/home/srrudrar/temporal_model/oe_acute/pyMNE.py:48: RuntimeWarning: overflow encountered in exp\n",
      "  pSpike = 1.0 / (1.0 + np.exp(a + stim.dot(h) + (np.sum(stim * (stim.dot(J)),1))))\n",
      "/home/srrudrar/temporal_model/oe_acute/pyMNE.py:22: RuntimeWarning: overflow encountered in exp\n",
      "  f1 = 1 + np.exp( a + stim.dot(h) + (np.sum(stim * (stim.dot(J)),1)))\n",
      "/home/srrudrar/temporal_model/oe_acute/pyMNE.py:25: RuntimeWarning: invalid value encountered in multiply\n",
      "  F1 = resp * np.log(f1)\n"
     ]
    },
    {
     "name": "stdout",
     "output_type": "stream",
     "text": [
      "    1       0    0.158521\n"
     ]
    },
    {
     "name": "stderr",
     "output_type": "stream",
     "text": [
      "/home/srrudrar/temporal_model/oe_acute/pyMNE.py:23: RuntimeWarning: overflow encountered in exp\n",
      "  f0 = 1 + np.exp(-a - stim.dot(h) - (np.sum(stim * (stim.dot(J)),1)))\n",
      "/home/srrudrar/temporal_model/oe_acute/pyMNE.py:48: RuntimeWarning: overflow encountered in exp\n",
      "  pSpike = 1.0 / (1.0 + np.exp(a + stim.dot(h) + (np.sum(stim * (stim.dot(J)),1))))\n",
      "/home/srrudrar/temporal_model/oe_acute/pyMNE.py:22: RuntimeWarning: overflow encountered in exp\n",
      "  f1 = 1 + np.exp( a + stim.dot(h) + (np.sum(stim * (stim.dot(J)),1)))\n",
      "/home/srrudrar/temporal_model/oe_acute/pyMNE.py:23: RuntimeWarning: overflow encountered in exp\n",
      "  f0 = 1 + np.exp(-a - stim.dot(h) - (np.sum(stim * (stim.dot(J)),1)))\n",
      "/home/srrudrar/temporal_model/oe_acute/pyMNE.py:25: RuntimeWarning: invalid value encountered in multiply\n",
      "  F1 = resp * np.log(f1)\n",
      "/home/srrudrar/temporal_model/oe_acute/pyMNE.py:48: RuntimeWarning: overflow encountered in exp\n",
      "  pSpike = 1.0 / (1.0 + np.exp(a + stim.dot(h) + (np.sum(stim * (stim.dot(J)),1))))\n",
      "/home/srrudrar/temporal_model/oe_acute/pyMNE.py:22: RuntimeWarning: overflow encountered in exp\n",
      "  f1 = 1 + np.exp( a + stim.dot(h) + (np.sum(stim * (stim.dot(J)),1)))\n",
      "/home/srrudrar/temporal_model/oe_acute/pyMNE.py:25: RuntimeWarning: invalid value encountered in multiply\n",
      "  F1 = resp * np.log(f1)\n"
     ]
    },
    {
     "name": "stdout",
     "output_type": "stream",
     "text": [
      "    2       0    0.156821\n"
     ]
    },
    {
     "name": "stderr",
     "output_type": "stream",
     "text": [
      "/home/srrudrar/temporal_model/oe_acute/pyMNE.py:23: RuntimeWarning: overflow encountered in exp\n",
      "  f0 = 1 + np.exp(-a - stim.dot(h) - (np.sum(stim * (stim.dot(J)),1)))\n",
      "/home/srrudrar/temporal_model/oe_acute/pyMNE.py:48: RuntimeWarning: overflow encountered in exp\n",
      "  pSpike = 1.0 / (1.0 + np.exp(a + stim.dot(h) + (np.sum(stim * (stim.dot(J)),1))))\n",
      "/home/srrudrar/temporal_model/oe_acute/pyMNE.py:22: RuntimeWarning: overflow encountered in exp\n",
      "  f1 = 1 + np.exp( a + stim.dot(h) + (np.sum(stim * (stim.dot(J)),1)))\n",
      "/home/srrudrar/temporal_model/oe_acute/pyMNE.py:23: RuntimeWarning: overflow encountered in exp\n",
      "  f0 = 1 + np.exp(-a - stim.dot(h) - (np.sum(stim * (stim.dot(J)),1)))\n",
      "/home/srrudrar/temporal_model/oe_acute/pyMNE.py:25: RuntimeWarning: invalid value encountered in multiply\n",
      "  F1 = resp * np.log(f1)\n",
      "/home/srrudrar/temporal_model/oe_acute/pyMNE.py:48: RuntimeWarning: overflow encountered in exp\n",
      "  pSpike = 1.0 / (1.0 + np.exp(a + stim.dot(h) + (np.sum(stim * (stim.dot(J)),1))))\n",
      "/home/srrudrar/temporal_model/oe_acute/pyMNE.py:22: RuntimeWarning: overflow encountered in exp\n",
      "  f1 = 1 + np.exp( a + stim.dot(h) + (np.sum(stim * (stim.dot(J)),1)))\n",
      "/home/srrudrar/temporal_model/oe_acute/pyMNE.py:25: RuntimeWarning: invalid value encountered in multiply\n",
      "  F1 = resp * np.log(f1)\n"
     ]
    },
    {
     "name": "stdout",
     "output_type": "stream",
     "text": [
      "    3       0    0.156686\n"
     ]
    },
    {
     "name": "stderr",
     "output_type": "stream",
     "text": [
      "/home/srrudrar/temporal_model/oe_acute/pyMNE.py:48: RuntimeWarning: overflow encountered in exp\n",
      "  pSpike = 1.0 / (1.0 + np.exp(a + stim.dot(h) + (np.sum(stim * (stim.dot(J)),1))))\n"
     ]
    },
    {
     "name": "stdout",
     "output_type": "stream",
     "text": [
      "    4       0    0.156322\n",
      "    5       0    0.155891\n"
     ]
    },
    {
     "name": "stderr",
     "output_type": "stream",
     "text": [
      "/home/srrudrar/temporal_model/oe_acute/pyMNE.py:23: RuntimeWarning: overflow encountered in exp\n",
      "  f0 = 1 + np.exp(-a - stim.dot(h) - (np.sum(stim * (stim.dot(J)),1)))\n",
      "/home/srrudrar/temporal_model/oe_acute/pyMNE.py:22: RuntimeWarning: overflow encountered in exp\n",
      "  f1 = 1 + np.exp( a + stim.dot(h) + (np.sum(stim * (stim.dot(J)),1)))\n",
      "/home/srrudrar/temporal_model/oe_acute/pyMNE.py:23: RuntimeWarning: overflow encountered in exp\n",
      "  f0 = 1 + np.exp(-a - stim.dot(h) - (np.sum(stim * (stim.dot(J)),1)))\n",
      "/home/srrudrar/temporal_model/oe_acute/pyMNE.py:25: RuntimeWarning: invalid value encountered in multiply\n",
      "  F1 = resp * np.log(f1)\n",
      "/home/srrudrar/temporal_model/oe_acute/pyMNE.py:48: RuntimeWarning: overflow encountered in exp\n",
      "  pSpike = 1.0 / (1.0 + np.exp(a + stim.dot(h) + (np.sum(stim * (stim.dot(J)),1))))\n",
      "/home/srrudrar/temporal_model/oe_acute/pyMNE.py:22: RuntimeWarning: overflow encountered in exp\n",
      "  f1 = 1 + np.exp( a + stim.dot(h) + (np.sum(stim * (stim.dot(J)),1)))\n",
      "/home/srrudrar/temporal_model/oe_acute/pyMNE.py:25: RuntimeWarning: invalid value encountered in multiply\n",
      "  F1 = resp * np.log(f1)\n"
     ]
    },
    {
     "name": "stdout",
     "output_type": "stream",
     "text": [
      "    6       0    0.155783\n"
     ]
    },
    {
     "name": "stderr",
     "output_type": "stream",
     "text": [
      "/home/srrudrar/temporal_model/oe_acute/pyMNE.py:48: RuntimeWarning: overflow encountered in exp\n",
      "  pSpike = 1.0 / (1.0 + np.exp(a + stim.dot(h) + (np.sum(stim * (stim.dot(J)),1))))\n"
     ]
    },
    {
     "name": "stdout",
     "output_type": "stream",
     "text": [
      "    7       0    0.155713\n",
      "    8       0    0.155590\n",
      "    9       0    0.155571\n",
      "   10       0    0.155563\n",
      "   11       0    0.155529\n",
      "   12       0    0.155347\n",
      "   13       0    0.155344\n",
      "   14       0    0.155361\n",
      "   15       1    0.155484\n",
      "   16       2    0.155424\n",
      "   17       3    0.155267\n",
      "   18       0    0.155245\n",
      "   19       0    0.155080\n",
      "   20       0    0.171080\n",
      "   21       1    0.162916\n",
      "   22       2    0.157922\n",
      "   23       3    0.154966\n",
      "   24       0    0.154973\n",
      "   25       1    0.154908\n",
      "   26       0    0.154800\n",
      "   27       0    0.154769\n",
      "   28       0    0.155815\n",
      "   29       1    0.157505\n",
      "   30       2    0.154713\n",
      "   31       0    0.154648\n",
      "   32       0    0.154607\n",
      "   33       0    0.165853\n",
      "   34       1    0.169675\n",
      "   35       2    0.172372\n",
      "   36       3    0.173541\n",
      "   37       4    0.154503\n",
      "   38       0    0.154492\n",
      "   39       0    0.154475\n",
      "   40       0    0.154466\n",
      "   41       0    0.154443\n",
      "   42       0    0.154421\n",
      "   43       0    0.154840\n",
      "   44       1    0.174999\n",
      "   45       2    0.171328\n",
      "   46       3    0.165379\n",
      "   47       4    0.165022\n",
      "   48       5    0.169749\n",
      "   49       6    0.179900\n",
      "   50       7    0.176886\n",
      "   51       8    0.159027\n",
      "   52       9    0.154070\n",
      "   53       0    0.154023\n",
      "   54       0    0.153942\n",
      "   55       0    0.153692\n",
      "   56       0    0.153869\n",
      "   57       1    0.163980\n",
      "   58       2    0.157104\n",
      "   59       3    0.153641\n",
      "   60       0    0.157889\n",
      "   61       1    0.163079\n",
      "   62       2    0.158432\n",
      "   63       3    0.153472\n",
      "   64       0    0.153445\n",
      "   65       0    0.153283\n",
      "   66       0    0.153126\n",
      "   67       0    0.153089\n",
      "   68       0    0.152778\n",
      "   69       0    0.152654\n",
      "   70       0    0.152432\n",
      "   71       0    0.152178\n",
      "   72       0    0.152139\n",
      "   73       0    0.152137\n",
      "   74       0    0.152126\n",
      "   75       0    0.152109\n",
      "   76       0    0.152062\n",
      "   77       0    0.152057\n",
      "   78       0    0.152054\n",
      "   79       0    0.152050\n",
      "   80       0    0.152044\n",
      "   81       0    0.152016\n",
      "   82       0    0.151997\n",
      "   83       0    0.151991\n",
      "   84       0    0.151990\n",
      "   85       0    0.151986\n",
      "   86       0    0.151972\n",
      "   87       0    0.151928\n",
      "   88       0    0.151918\n",
      "   89       0    0.151842\n",
      "   90       0    0.151750\n",
      "   91       0    0.151504\n",
      "   92       0    0.151455\n",
      "   93       0    0.151229\n",
      "   94       0    0.151228\n",
      "   95       0    0.151245\n",
      "   96       1    0.151197\n",
      "   97       0    0.151198\n",
      "   98       1    0.151198\n",
      "   99       2    0.151164\n",
      "  100       0    0.151138\n",
      "  101       0    0.151121\n",
      "  102       0    0.151126\n",
      "  103       1    0.151146\n",
      "  104       2    0.151138\n",
      "  105       3    0.151118\n",
      "  106       0    0.151117\n",
      "  107       0    0.151122\n",
      "  108       1    0.151095\n",
      "  109       0    0.151055\n",
      "  110       0    0.151059\n",
      "  111       1    0.151089\n",
      "  112       2    0.151087\n",
      "  113       3    0.151084\n",
      "  114       4    0.151078\n",
      "  115       5    0.151076\n",
      "  116       6    0.151076\n",
      "  117       7    0.151069\n",
      "  118       8    0.151038\n",
      "  119       0    0.150994\n",
      "  120       0    0.150987\n",
      "  121       0    0.150983\n",
      "  122       0    0.150984\n",
      "  123       1    0.150989\n",
      "  124       2    0.150992\n",
      "  125       3    0.150989\n",
      "  126       4    0.150984\n",
      "  127       5    0.150992\n",
      "  128       6    0.151007\n",
      "  129       7    0.151001\n",
      "  130       8    0.150976\n",
      "  131       0    0.150975\n",
      "  132       0    0.150986\n",
      "  133       1    0.150974\n",
      "  134       0    0.150969\n",
      "  135       0    0.150945\n",
      "  136       0    0.150938\n",
      "  137       0    0.150950\n",
      "  138       1    0.150956\n",
      "  139       2    0.150971\n",
      "  140       3    0.150968\n",
      "  141       4    0.150956\n",
      "  142       5    0.150956\n",
      "  143       6    0.150955\n",
      "  144       7    0.150954\n",
      "  145       8    0.150951\n",
      "  146       9    0.150943\n",
      "minimum of test set found\n",
      "Iters   tally   ll(test) \n"
     ]
    },
    {
     "name": "stderr",
     "output_type": "stream",
     "text": [
      "/home/srrudrar/temporal_model/oe_acute/pyMNE.py:22: RuntimeWarning: overflow encountered in exp\n",
      "  f1 = 1 + np.exp( a + stim.dot(h) + (np.sum(stim * (stim.dot(J)),1)))\n",
      "/home/srrudrar/temporal_model/oe_acute/pyMNE.py:25: RuntimeWarning: invalid value encountered in multiply\n",
      "  F1 = resp * np.log(f1)\n",
      "/home/srrudrar/temporal_model/oe_acute/pyMNE.py:48: RuntimeWarning: overflow encountered in exp\n",
      "  pSpike = 1.0 / (1.0 + np.exp(a + stim.dot(h) + (np.sum(stim * (stim.dot(J)),1))))\n",
      "/home/srrudrar/temporal_model/oe_acute/pyMNE.py:22: RuntimeWarning: overflow encountered in exp\n",
      "  f1 = 1 + np.exp( a + stim.dot(h) + (np.sum(stim * (stim.dot(J)),1)))\n",
      "/home/srrudrar/temporal_model/oe_acute/pyMNE.py:25: RuntimeWarning: invalid value encountered in multiply\n",
      "  F1 = resp * np.log(f1)\n"
     ]
    },
    {
     "name": "stdout",
     "output_type": "stream",
     "text": [
      "    1       0    0.182241\n"
     ]
    },
    {
     "name": "stderr",
     "output_type": "stream",
     "text": [
      "/home/srrudrar/temporal_model/oe_acute/pyMNE.py:23: RuntimeWarning: overflow encountered in exp\n",
      "  f0 = 1 + np.exp(-a - stim.dot(h) - (np.sum(stim * (stim.dot(J)),1)))\n",
      "/home/srrudrar/temporal_model/oe_acute/pyMNE.py:48: RuntimeWarning: overflow encountered in exp\n",
      "  pSpike = 1.0 / (1.0 + np.exp(a + stim.dot(h) + (np.sum(stim * (stim.dot(J)),1))))\n",
      "/home/srrudrar/temporal_model/oe_acute/pyMNE.py:22: RuntimeWarning: overflow encountered in exp\n",
      "  f1 = 1 + np.exp( a + stim.dot(h) + (np.sum(stim * (stim.dot(J)),1)))\n",
      "/home/srrudrar/temporal_model/oe_acute/pyMNE.py:23: RuntimeWarning: overflow encountered in exp\n",
      "  f0 = 1 + np.exp(-a - stim.dot(h) - (np.sum(stim * (stim.dot(J)),1)))\n",
      "/home/srrudrar/temporal_model/oe_acute/pyMNE.py:25: RuntimeWarning: invalid value encountered in multiply\n",
      "  F1 = resp * np.log(f1)\n",
      "/home/srrudrar/temporal_model/oe_acute/pyMNE.py:48: RuntimeWarning: overflow encountered in exp\n",
      "  pSpike = 1.0 / (1.0 + np.exp(a + stim.dot(h) + (np.sum(stim * (stim.dot(J)),1))))\n",
      "/home/srrudrar/temporal_model/oe_acute/pyMNE.py:22: RuntimeWarning: overflow encountered in exp\n",
      "  f1 = 1 + np.exp( a + stim.dot(h) + (np.sum(stim * (stim.dot(J)),1)))\n",
      "/home/srrudrar/temporal_model/oe_acute/pyMNE.py:25: RuntimeWarning: invalid value encountered in multiply\n",
      "  F1 = resp * np.log(f1)\n"
     ]
    },
    {
     "name": "stdout",
     "output_type": "stream",
     "text": [
      "    2       0    0.201923\n"
     ]
    },
    {
     "name": "stderr",
     "output_type": "stream",
     "text": [
      "/home/srrudrar/temporal_model/oe_acute/pyMNE.py:23: RuntimeWarning: overflow encountered in exp\n",
      "  f0 = 1 + np.exp(-a - stim.dot(h) - (np.sum(stim * (stim.dot(J)),1)))\n",
      "/home/srrudrar/temporal_model/oe_acute/pyMNE.py:48: RuntimeWarning: overflow encountered in exp\n",
      "  pSpike = 1.0 / (1.0 + np.exp(a + stim.dot(h) + (np.sum(stim * (stim.dot(J)),1))))\n",
      "/home/srrudrar/temporal_model/oe_acute/pyMNE.py:22: RuntimeWarning: overflow encountered in exp\n",
      "  f1 = 1 + np.exp( a + stim.dot(h) + (np.sum(stim * (stim.dot(J)),1)))\n",
      "/home/srrudrar/temporal_model/oe_acute/pyMNE.py:23: RuntimeWarning: overflow encountered in exp\n",
      "  f0 = 1 + np.exp(-a - stim.dot(h) - (np.sum(stim * (stim.dot(J)),1)))\n",
      "/home/srrudrar/temporal_model/oe_acute/pyMNE.py:25: RuntimeWarning: invalid value encountered in multiply\n",
      "  F1 = resp * np.log(f1)\n",
      "/home/srrudrar/temporal_model/oe_acute/pyMNE.py:48: RuntimeWarning: overflow encountered in exp\n",
      "  pSpike = 1.0 / (1.0 + np.exp(a + stim.dot(h) + (np.sum(stim * (stim.dot(J)),1))))\n",
      "/home/srrudrar/temporal_model/oe_acute/pyMNE.py:22: RuntimeWarning: overflow encountered in exp\n",
      "  f1 = 1 + np.exp( a + stim.dot(h) + (np.sum(stim * (stim.dot(J)),1)))\n",
      "/home/srrudrar/temporal_model/oe_acute/pyMNE.py:25: RuntimeWarning: invalid value encountered in multiply\n",
      "  F1 = resp * np.log(f1)\n"
     ]
    },
    {
     "name": "stdout",
     "output_type": "stream",
     "text": [
      "    3       0    0.202788\n"
     ]
    },
    {
     "name": "stderr",
     "output_type": "stream",
     "text": [
      "/home/srrudrar/temporal_model/oe_acute/pyMNE.py:48: RuntimeWarning: overflow encountered in exp\n",
      "  pSpike = 1.0 / (1.0 + np.exp(a + stim.dot(h) + (np.sum(stim * (stim.dot(J)),1))))\n"
     ]
    },
    {
     "name": "stdout",
     "output_type": "stream",
     "text": [
      "    4       1    0.200310\n",
      "    5       0    0.194668\n",
      "    6       0    0.195165\n",
      "    7       1    0.200252\n",
      "    8       2    0.199932\n",
      "    9       3    0.202835\n",
      "   10       4    0.200139\n",
      "   11       5    0.196497\n",
      "   12       6    0.192234\n",
      "   13       0    0.188696\n",
      "   14       0    0.184920\n",
      "   15       0    0.183087\n",
      "   16       0    0.184667\n",
      "   17       1    0.184812\n",
      "   18       2    0.184669\n",
      "   19       3    0.184442\n",
      "   20       4    0.185411\n",
      "   21       5    0.185562\n",
      "   22       6    0.184446\n",
      "   23       7    0.184416\n",
      "   24       8    0.182796\n",
      "   25       0    0.181815\n",
      "   26       0    0.181470\n",
      "   27       0    0.181122\n",
      "   28       0    0.181185\n",
      "   29       1    0.181382\n",
      "   30       2    0.181900\n",
      "   31       3    0.181680\n",
      "   32       4    0.181447\n",
      "   33       5    0.181877\n",
      "   34       6    0.181869\n",
      "   35       7    0.182556\n",
      "   36       8    0.181966\n",
      "   37       9    0.181646\n",
      "minimum of test set found\n",
      "Iters   tally   ll(test) \n"
     ]
    },
    {
     "name": "stderr",
     "output_type": "stream",
     "text": [
      "/home/srrudrar/temporal_model/oe_acute/pyMNE.py:22: RuntimeWarning: overflow encountered in exp\n",
      "  f1 = 1 + np.exp( a + stim.dot(h) + (np.sum(stim * (stim.dot(J)),1)))\n",
      "/home/srrudrar/temporal_model/oe_acute/pyMNE.py:25: RuntimeWarning: invalid value encountered in multiply\n",
      "  F1 = resp * np.log(f1)\n",
      "/home/srrudrar/temporal_model/oe_acute/pyMNE.py:48: RuntimeWarning: overflow encountered in exp\n",
      "  pSpike = 1.0 / (1.0 + np.exp(a + stim.dot(h) + (np.sum(stim * (stim.dot(J)),1))))\n",
      "/home/srrudrar/temporal_model/oe_acute/pyMNE.py:22: RuntimeWarning: overflow encountered in exp\n",
      "  f1 = 1 + np.exp( a + stim.dot(h) + (np.sum(stim * (stim.dot(J)),1)))\n",
      "/home/srrudrar/temporal_model/oe_acute/pyMNE.py:25: RuntimeWarning: invalid value encountered in multiply\n",
      "  F1 = resp * np.log(f1)\n"
     ]
    },
    {
     "name": "stdout",
     "output_type": "stream",
     "text": [
      "    1       0    0.129127\n"
     ]
    },
    {
     "name": "stderr",
     "output_type": "stream",
     "text": [
      "/home/srrudrar/temporal_model/oe_acute/pyMNE.py:23: RuntimeWarning: overflow encountered in exp\n",
      "  f0 = 1 + np.exp(-a - stim.dot(h) - (np.sum(stim * (stim.dot(J)),1)))\n",
      "/home/srrudrar/temporal_model/oe_acute/pyMNE.py:48: RuntimeWarning: overflow encountered in exp\n",
      "  pSpike = 1.0 / (1.0 + np.exp(a + stim.dot(h) + (np.sum(stim * (stim.dot(J)),1))))\n"
     ]
    }
   ],
   "source": [
    "# obtain all preprocessed datas\n",
    "\n",
    "%matplotlib inline\n",
    "sdim = d                                                                                                          ###change                                                                \n",
    "n_jackknives = 4\n",
    "\n",
    "test_output_path = os.path.join(exp_path, 'MNE_test_dset')\n",
    "os.makedirs(test_output_path, exist_ok=True)\n",
    "n_eigvec_to_display = 6 # Number of most positive and most negative eigenvectors to display\n",
    "\n",
    "pfinals = {}\n",
    "for unit in units_to_process:\n",
    "    i = units_to_process.index(unit)\n",
    "    stims_train, resps_train, stims_test, resps_test = MNE.prepare_MNE_train_test_set(stim_mne, resp_mne[:,i][:,np.newaxis], train_pct=0.8, zscore=True, kz_norm_resp=True)\n",
    "    \n",
    "    # Save test dataset\n",
    "    test_dict = {'stims_test':stims_test, 'resps_test':resps_test}\n",
    "    out_fname = 'unit-{}_MNE.pkl'.format(unit)\n",
    "    out_f = os.path.join(test_output_path, out_fname)\n",
    "    with open(out_f, 'wb') as f:\n",
    "        pickle.dump(test_dict, f)\n",
    "\n",
    "    # Run MNE\n",
    "    pfinal = MNE.fit_MNE(stims_train, resps_train, order=2)\n",
    "    #MNE.plot_MNE(pfinal, unit, figure_output_path)\n",
    "    pfinals[unit] = pfinal"
   ]
  },
  {
   "cell_type": "code",
   "execution_count": null,
   "metadata": {},
   "outputs": [],
   "source": [
    "with open(os.path.join(exp_path, 'all_1_2_3_MNEs_random_test.pkl'), 'wb') as f:\n",
    "    pickle.dump(pfinals, f)"
   ]
  },
  {
   "cell_type": "code",
   "execution_count": null,
   "metadata": {},
   "outputs": [],
   "source": []
  },
  {
   "cell_type": "code",
   "execution_count": null,
   "metadata": {},
   "outputs": [],
   "source": []
  },
  {
   "cell_type": "code",
   "execution_count": null,
   "metadata": {},
   "outputs": [],
   "source": []
  },
  {
   "cell_type": "code",
   "execution_count": null,
   "metadata": {},
   "outputs": [],
   "source": []
  }
 ],
 "metadata": {
  "kernelspec": {
   "display_name": "Python 3",
   "language": "python",
   "name": "python3"
  },
  "language_info": {
   "codemirror_mode": {
    "name": "ipython",
    "version": 3
   },
   "file_extension": ".py",
   "mimetype": "text/x-python",
   "name": "python",
   "nbconvert_exporter": "python",
   "pygments_lexer": "ipython3",
   "version": "3.7.5"
  }
 },
 "nbformat": 4,
 "nbformat_minor": 2
}
