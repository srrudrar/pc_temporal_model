{
 "cells": [
  {
   "cell_type": "code",
   "execution_count": 1,
   "metadata": {},
   "outputs": [],
   "source": [
    "import numpy as np\n",
    "from oe_acute import MNE\n",
    "from oe_acute import trial_utils as tu\n",
    "import os\n",
    "import pickle\n",
    "import glob"
   ]
  },
  {
   "cell_type": "code",
   "execution_count": 2,
   "metadata": {},
   "outputs": [],
   "source": [
    "import numpy as np\n",
    "from scipy.io.wavfile import read\n",
    "from scipy import signal\n",
    "from scipy.optimize import minimize\n",
    "import glob\n",
    "import os\n",
    "import pickle\n",
    "from oe_acute import trial_utils as tu\n",
    "import tqdm\n",
    "import matplotlib.pyplot as plt\n",
    "import matplotlib.cm as cm\n",
    "import networkx as nx"
   ]
  },
  {
   "cell_type": "code",
   "execution_count": 3,
   "metadata": {},
   "outputs": [],
   "source": [
    "exp_path = '/mnt/sphere/share/NCM_acute/experiments/B1240/block3/'\n",
    "sort_path =  '/mnt/sphere/share/NCM_acute/sorting/B1240/block3/'\n",
    "stim_path = '/mnt/sphere/share/NCM_acute/MET_prediction_expt/'\n",
    "\n",
    "ratings = [1,2,3]\n",
    "\n",
    "ratings_str = ''.join([str(x) for x in ratings])"
   ]
  },
  {
   "cell_type": "code",
   "execution_count": 4,
   "metadata": {},
   "outputs": [],
   "source": [
    "nperseg=128\n",
    "noverlap=64\n",
    "nfft=128\n",
    "#nsegbins=64\n",
    "bp_low=300\n",
    "bp_high=12000\n",
    "bp_order=5\n",
    "preemph_b=0.97\n",
    "ref_level_dB=20\n",
    "min_level_dB=-30\n",
    "\n",
    "spec_all = []\n",
    "stereo_all = []\n",
    "stim_files = glob.glob(os.path.join(stim_path, '*.wav.sine'))"
   ]
  },
  {
   "cell_type": "markdown",
   "metadata": {},
   "source": [
    "### Load stim_spec, stim_resp"
   ]
  },
  {
   "cell_type": "code",
   "execution_count": 5,
   "metadata": {},
   "outputs": [],
   "source": [
    "spec_f = '/mnt/cube/srrudrar/stim_preprocess/temporal_model/B1240/stim_spec.pkl'\n",
    "with open(spec_f, 'rb') as f:\n",
    "    stim_spec = pickle.load(f)\n",
    "\n",
    "resp_f = '/mnt/cube/srrudrar/stim_preprocess/temporal_model/B1240/stim_resp.pkl'\n",
    "with open(resp_f, 'rb') as f:\n",
    "    stim_resp = pickle.load(f)"
   ]
  },
  {
   "cell_type": "code",
   "execution_count": 6,
   "metadata": {},
   "outputs": [
    {
     "data": {
      "text/plain": [
       "(list, list)"
      ]
     },
     "execution_count": 6,
     "metadata": {},
     "output_type": "execute_result"
    }
   ],
   "source": [
    "type(stim_spec), type(stim_resp)"
   ]
  },
  {
   "cell_type": "markdown",
   "metadata": {},
   "source": [
    "### Reduce to 32 bins"
   ]
  },
  {
   "cell_type": "code",
   "execution_count": 7,
   "metadata": {},
   "outputs": [
    {
     "data": {
      "text/plain": [
       "((64, 365), (214, 365))"
      ]
     },
     "execution_count": 7,
     "metadata": {},
     "output_type": "execute_result"
    }
   ],
   "source": [
    "np.shape(stim_spec[0]), np.shape(stim_resp[0])"
   ]
  },
  {
   "cell_type": "code",
   "execution_count": 8,
   "metadata": {},
   "outputs": [],
   "source": [
    "n_rows = 0\n",
    "n_cols = 1\n",
    "\n",
    "stim_spec_16 = []\n",
    "for stim in stim_spec:\n",
    "    stim_16 = MNE.kozlov_averaging(stim, n_rows=n_cols, n_cols=n_rows)\n",
    "    stim_spec_16.append(stim_16)"
   ]
  },
  {
   "cell_type": "code",
   "execution_count": 9,
   "metadata": {},
   "outputs": [
    {
     "data": {
      "text/plain": [
       "((32, 365), (214, 365))"
      ]
     },
     "execution_count": 9,
     "metadata": {},
     "output_type": "execute_result"
    }
   ],
   "source": [
    "np.shape(stim_spec_16[0]), np.shape(stim_resp[0])"
   ]
  },
  {
   "cell_type": "markdown",
   "metadata": {},
   "source": [
    "### Prepare temporal dset"
   ]
  },
  {
   "cell_type": "code",
   "execution_count": 10,
   "metadata": {},
   "outputs": [],
   "source": [
    "def prepare_temporal_dset_lag(stim_spec, stim_resp, lag, nsegbins, thresh=0.01):\n",
    "    '''\n",
    "    Create the dataset for training the autoencoder\n",
    "    '''\n",
    "    \n",
    "    nfreqbins = stim_spec[0].shape[0]\n",
    "    stim_spec_resp = []\n",
    "    segs_list = []\n",
    "    spec1_list = []\n",
    "\n",
    "    # normalize response\n",
    "    for i in range(len(stim_spec)):\n",
    "        stim_resp[i] /= np.amax(stim_resp[i])\n",
    "        stim_spec_resp.append(np.vstack([stim_spec[i], stim_resp[i]]))\n",
    "                              \n",
    "    for j in range(len(stim_spec_resp)):\n",
    "        segs_list.append([stim_spec_resp[j][:, n:(n+nsegbins)] for n in range(stim_spec_resp[j].shape[-1] - nsegbins - lag)])\n",
    "        spec1_list.append([stim_spec_resp[j][:, n+nsegbins+lag] for n in range(stim_spec_resp[j].shape[-1] - nsegbins - lag)])\n",
    "\n",
    "    for k in range(len(segs_list)):\n",
    "        indx = [index for index,value in enumerate(segs_list[k]) if (np.mean(value[:nfreqbins, :]) > thresh)]\n",
    "        #print(type(indx))\n",
    "        segs_list[k] = [s for s in segs_list[k] if (np.mean(s[:nfreqbins, :]) > thresh)]\n",
    "        spec1_list[k] = [spec1_list[k][i] for i in indx]\n",
    "\n",
    "        segs_list[k] = np.stack(segs_list[k], axis=0)\n",
    "        spec1_list[k] = np.stack(spec1_list[k], axis=0)\n",
    "\n",
    "    segs = np.vstack(segs_list)\n",
    "    spec1 = np.vstack(spec1_list)\n",
    "    \n",
    "    print('Final shape: {}'.format(segs.shape))\n",
    "    print('Next shape: {}'.format(spec1.shape))\n",
    "    return segs, spec1"
   ]
  },
  {
   "cell_type": "code",
   "execution_count": 11,
   "metadata": {},
   "outputs": [],
   "source": [
    "def prepare_temporal_dset_lag1(stim_spec, stim_resp, lag, nsegbins, thresh=0.01):\n",
    "    '''\n",
    "    Create the dataset for training the autoencoder\n",
    "    '''\n",
    "    \n",
    "    nfreqbins = stim_spec[0].shape[0]\n",
    "    stim_spec_resp = []\n",
    "    segs_list = []\n",
    "    spec1_list = []\n",
    "\n",
    "    # normalize response\n",
    "    for i in range(len(stim_spec)):\n",
    "        stim_resp[i] /= np.amax(stim_resp[i])\n",
    "        stim_spec_resp.append(np.vstack([stim_spec[i], stim_resp[i]]))\n",
    "                              \n",
    "    for j in range(len(stim_spec_resp)):\n",
    "        spec1_list.append([stim_spec_resp[j][:, n] for n in range(stim_spec_resp[j].shape[-1] - nsegbins - lag)])\n",
    "        segs_list.append([stim_spec_resp[j][:, (n+lag):(n+nsegbins+lag)] for n in range(stim_spec_resp[j].shape[-1] - nsegbins - lag)])\n",
    "\n",
    "    for k in range(len(segs_list)):\n",
    "        indx = [index for index,value in enumerate(segs_list[k]) if (np.mean(value[:nfreqbins, :]) > thresh)]\n",
    "        #print(type(indx))\n",
    "        segs_list[k] = [s for s in segs_list[k] if (np.mean(s[:nfreqbins, :]) > thresh)]\n",
    "        spec1_list[k] = [spec1_list[k][i] for i in indx]\n",
    "\n",
    "        segs_list[k] = np.stack(segs_list[k], axis=0)\n",
    "        spec1_list[k] = np.stack(spec1_list[k], axis=0)\n",
    "\n",
    "    segs = np.vstack(segs_list)\n",
    "    spec1 = np.vstack(spec1_list)\n",
    "    \n",
    "    print('Final shape: {}'.format(segs.shape))\n",
    "    print('Next shape: {}'.format(spec1.shape))\n",
    "    return segs, spec1"
   ]
  },
  {
   "cell_type": "code",
   "execution_count": 12,
   "metadata": {},
   "outputs": [],
   "source": [
    "lag = 16                                                                                                           ####change  "
   ]
  },
  {
   "cell_type": "code",
   "execution_count": 13,
   "metadata": {},
   "outputs": [
    {
     "name": "stdout",
     "output_type": "stream",
     "text": [
      "Final shape: (54495, 246, 32)\n",
      "Next shape: (54495, 246)\n"
     ]
    }
   ],
   "source": [
    "dsegs_16, spec1_16 = prepare_temporal_dset_lag1(stim_spec_16, stim_resp, lag, nsegbins=32, thresh=0.01)"
   ]
  },
  {
   "cell_type": "code",
   "execution_count": null,
   "metadata": {},
   "outputs": [],
   "source": []
  },
  {
   "cell_type": "code",
   "execution_count": 14,
   "metadata": {},
   "outputs": [],
   "source": [
    "spec_next_name = '/mnt/cube/srrudrar/stim_preprocess/temporal_model/B1240/next_list_32_lag_neg16.pkl'              ####change\n",
    "with open(spec_next_name, 'wb') as f:\n",
    "    pickle.dump(spec1_16, f)\n",
    "\n",
    "spec_segs_name = '/mnt/cube/srrudrar/stim_preprocess/temporal_model/B1240/segs_list_32_lag_neg16.pkl'              ####change\n",
    "with open(spec_segs_name, 'wb') as f:\n",
    "    pickle.dump(dsegs_16, f)"
   ]
  },
  {
   "cell_type": "code",
   "execution_count": null,
   "metadata": {},
   "outputs": [],
   "source": []
  },
  {
   "cell_type": "code",
   "execution_count": null,
   "metadata": {},
   "outputs": [],
   "source": []
  }
 ],
 "metadata": {
  "kernelspec": {
   "display_name": "Python 3",
   "language": "python",
   "name": "python3"
  },
  "language_info": {
   "codemirror_mode": {
    "name": "ipython",
    "version": 3
   },
   "file_extension": ".py",
   "mimetype": "text/x-python",
   "name": "python",
   "nbconvert_exporter": "python",
   "pygments_lexer": "ipython3",
   "version": "3.7.5"
  }
 },
 "nbformat": 4,
 "nbformat_minor": 2
}
