{
 "cells": [
  {
   "cell_type": "code",
   "execution_count": 1,
   "metadata": {},
   "outputs": [],
   "source": [
    "import os\n",
    "\n",
    "gpus = [0]\n",
    "os.environ['CUDA_VISIBLE_DEVICES']=','.join([str(i) for i in gpus])"
   ]
  },
  {
   "cell_type": "code",
   "execution_count": 2,
   "metadata": {},
   "outputs": [],
   "source": [
    "import tensorflow as tf \n",
    "import tensorflow.keras as keras\n",
    "import numpy as np \n",
    "from oe_acute import MNE\n",
    "import pickle\n",
    "import sys\n",
    "import random\n",
    "#from AE import MDSAE as ae\n",
    "from network_visualisation import plot_these_aud_weights\n",
    "import network_visualisation\n",
    "import quantify_aud_strfs\n",
    "import matplotlib.pyplot as plt"
   ]
  },
  {
   "cell_type": "code",
   "execution_count": 3,
   "metadata": {},
   "outputs": [],
   "source": [
    "gpus = [0] # Here I set CUDA to only see one GPU\n",
    "os.environ[\"CUDA_DEVICE_ORDER\"]=\"PCI_BUS_ID\"   # see issue #152\n",
    "os.environ[\"CUDA_VISIBLE_DEVICES\"]=','.join([str(i) for i in gpus])\n",
    "num_gpus = len(gpus) # number of GPUs to use\n",
    "if len(gpus) < 1:\n",
    "    num_gpus = 1 "
   ]
  },
  {
   "cell_type": "code",
   "execution_count": 4,
   "metadata": {},
   "outputs": [
    {
     "name": "stdout",
     "output_type": "stream",
     "text": [
      "['/device:GPU:0']\n"
     ]
    }
   ],
   "source": [
    "from tensorflow.python.client import device_lib\n",
    "local_device_protos = device_lib.list_local_devices()\n",
    "print( [x.name for x in local_device_protos if x.device_type == 'GPU'] )"
   ]
  },
  {
   "cell_type": "code",
   "execution_count": null,
   "metadata": {},
   "outputs": [],
   "source": []
  },
  {
   "cell_type": "code",
   "execution_count": null,
   "metadata": {},
   "outputs": [],
   "source": []
  },
  {
   "cell_type": "code",
   "execution_count": 5,
   "metadata": {},
   "outputs": [],
   "source": [
    "import numpy as np\n",
    "from oe_acute import MNE\n",
    "from oe_acute import trial_utils as tu\n",
    "import os\n",
    "import pickle\n",
    "import glob"
   ]
  },
  {
   "cell_type": "code",
   "execution_count": 6,
   "metadata": {},
   "outputs": [],
   "source": [
    "import numpy as np\n",
    "from scipy.io.wavfile import read\n",
    "from scipy import signal\n",
    "from scipy.optimize import minimize\n",
    "import glob\n",
    "import os\n",
    "import pickle\n",
    "from oe_acute import trial_utils as tu\n",
    "import tqdm\n",
    "import matplotlib.pyplot as plt\n",
    "import matplotlib.cm as cm\n",
    "import networkx as nx"
   ]
  },
  {
   "cell_type": "code",
   "execution_count": 7,
   "metadata": {},
   "outputs": [],
   "source": [
    "exp_path = '/mnt/sphere/share/NCM_acute/experiments/B1240/block3/'\n",
    "sort_path =  '/mnt/sphere/share/NCM_acute/sorting/B1240/block3/'\n",
    "stim_path = '/mnt/sphere/share/NCM_acute/MET_prediction_expt/'\n",
    "\n",
    "ratings = [1,2,3]\n",
    "\n",
    "ratings_str = ''.join([str(x) for x in ratings])"
   ]
  },
  {
   "cell_type": "code",
   "execution_count": 8,
   "metadata": {},
   "outputs": [],
   "source": [
    "nperseg=128\n",
    "noverlap=64\n",
    "nfft=128\n",
    "nsegbins=64\n",
    "bp_low=300\n",
    "bp_high=12000\n",
    "bp_order=5\n",
    "preemph_b=0.97\n",
    "ref_level_dB=20\n",
    "min_level_dB=-30\n",
    "\n",
    "spec_all = []\n",
    "stereo_all = []\n",
    "stim_files = glob.glob(os.path.join(stim_path, '*.wav.sine'))"
   ]
  },
  {
   "cell_type": "code",
   "execution_count": 9,
   "metadata": {},
   "outputs": [],
   "source": [
    "n_rows = 0\n",
    "n_cols = 2\n",
    "nsegbins = 64"
   ]
  },
  {
   "cell_type": "code",
   "execution_count": null,
   "metadata": {},
   "outputs": [],
   "source": []
  },
  {
   "cell_type": "markdown",
   "metadata": {},
   "source": [
    "### Load stim_spec, stim_resp"
   ]
  },
  {
   "cell_type": "code",
   "execution_count": 10,
   "metadata": {},
   "outputs": [],
   "source": [
    "spec_f = '/mnt/cube/srrudrar/stim_preprocess/temporal_model/stim_spec.pkl'\n",
    "with open(spec_f, 'rb') as f:\n",
    "    stim_spec = pickle.load(f)\n",
    "\n",
    "resp_f = '/mnt/cube/srrudrar/stim_preprocess/temporal_model/stim_resp.pkl'\n",
    "with open(resp_f, 'rb') as f:\n",
    "    stim_resp = pickle.load(f)"
   ]
  },
  {
   "cell_type": "code",
   "execution_count": 11,
   "metadata": {},
   "outputs": [
    {
     "data": {
      "text/plain": [
       "(list, list)"
      ]
     },
     "execution_count": 11,
     "metadata": {},
     "output_type": "execute_result"
    }
   ],
   "source": [
    "type(stim_spec), type(stim_resp)"
   ]
  },
  {
   "cell_type": "code",
   "execution_count": 12,
   "metadata": {},
   "outputs": [],
   "source": [
    "#dset_segs = MNE.prepare_AE_dset(stim_spec, stim_resp, nsegbins=nsegbins, thresh=0.01)"
   ]
  },
  {
   "cell_type": "code",
   "execution_count": 13,
   "metadata": {},
   "outputs": [
    {
     "name": "stdout",
     "output_type": "stream",
     "text": [
      "Final shape: (60429, 278, 64)\n",
      "Next shape: (60429, 278)\n"
     ]
    }
   ],
   "source": [
    "dsegs, spec1 = MNE.prepare_temporal_dset(stim_spec, stim_resp, nsegbins=nsegbins, thresh=0.01)"
   ]
  },
  {
   "cell_type": "code",
   "execution_count": 14,
   "metadata": {},
   "outputs": [
    {
     "data": {
      "text/plain": [
       "((60429, 278, 64), (60429, 278))"
      ]
     },
     "execution_count": 14,
     "metadata": {},
     "output_type": "execute_result"
    }
   ],
   "source": [
    "np.shape(dsegs), np.shape(spec1)"
   ]
  },
  {
   "cell_type": "markdown",
   "metadata": {},
   "source": [
    "### Reduce to 16 bins"
   ]
  },
  {
   "cell_type": "code",
   "execution_count": 16,
   "metadata": {},
   "outputs": [
    {
     "data": {
      "text/plain": [
       "((64, 365), (214, 365))"
      ]
     },
     "execution_count": 16,
     "metadata": {},
     "output_type": "execute_result"
    }
   ],
   "source": [
    "np.shape(stim_spec[0]), np.shape(stim_resp[0])"
   ]
  },
  {
   "cell_type": "code",
   "execution_count": 17,
   "metadata": {},
   "outputs": [],
   "source": [
    "spec_next_name = '/mnt/cube/srrudrar/stim_preprocess/temporal_model/next_list_64.pkl'\n",
    "with open(spec_next_name, 'wb') as f:\n",
    "    pickle.dump(spec1, f)"
   ]
  },
  {
   "cell_type": "code",
   "execution_count": 19,
   "metadata": {},
   "outputs": [
    {
     "data": {
      "text/plain": [
       "((30000, 278, 64), (20000, 278, 64), (10429, 278, 64))"
      ]
     },
     "execution_count": 19,
     "metadata": {},
     "output_type": "execute_result"
    }
   ],
   "source": [
    "dsegs1 = dsegs[:30000,:,:]\n",
    "dsegs2 = dsegs[30000:50000,:,:]\n",
    "dsegs3 = dsegs[50000:,:,:]\n",
    "np.shape(dsegs1), np.shape(dsegs2), np.shape(dsegs3)"
   ]
  },
  {
   "cell_type": "code",
   "execution_count": 18,
   "metadata": {},
   "outputs": [],
   "source": [
    "spec_segs_name = '/mnt/cube/srrudrar/stim_preprocess/temporal_model/segs_list_pt1_64.pkl'\n",
    "with open(spec_segs_name, 'wb') as f:\n",
    "    pickle.dump(dsegs1, f)"
   ]
  },
  {
   "cell_type": "code",
   "execution_count": 20,
   "metadata": {},
   "outputs": [],
   "source": [
    "spec_segs_name2 = '/mnt/cube/srrudrar/stim_preprocess/temporal_model/segs_list_pt2_64.pkl'\n",
    "with open(spec_segs_name2, 'wb') as f:\n",
    "    pickle.dump(dsegs2, f)"
   ]
  },
  {
   "cell_type": "code",
   "execution_count": 21,
   "metadata": {},
   "outputs": [],
   "source": [
    "spec_segs_name3 = '/mnt/cube/srrudrar/stim_preprocess/temporal_model/segs_list_pt3_64.pkl'\n",
    "with open(spec_segs_name3, 'wb') as f:\n",
    "    pickle.dump(dsegs3, f)"
   ]
  },
  {
   "cell_type": "code",
   "execution_count": null,
   "metadata": {},
   "outputs": [],
   "source": []
  }
 ],
 "metadata": {
  "kernelspec": {
   "display_name": "Python 3",
   "language": "python",
   "name": "python3"
  },
  "language_info": {
   "codemirror_mode": {
    "name": "ipython",
    "version": 3
   },
   "file_extension": ".py",
   "mimetype": "text/x-python",
   "name": "python",
   "nbconvert_exporter": "python",
   "pygments_lexer": "ipython3",
   "version": "3.7.5"
  }
 },
 "nbformat": 4,
 "nbformat_minor": 2
}
